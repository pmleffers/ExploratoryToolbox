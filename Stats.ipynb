{
 "cells": [
  {
   "cell_type": "code",
   "execution_count": 6,
   "metadata": {},
   "outputs": [
    {
     "data": {
      "text/html": [
       "        <script type=\"text/javascript\">\n",
       "        window.PlotlyConfig = {MathJaxConfig: 'local'};\n",
       "        if (window.MathJax) {MathJax.Hub.Config({SVG: {font: \"STIX-Web\"}});}\n",
       "        if (typeof require !== 'undefined') {\n",
       "        require.undef(\"plotly\");\n",
       "        requirejs.config({\n",
       "            paths: {\n",
       "                'plotly': ['https://cdn.plot.ly/plotly-latest.min']\n",
       "            }\n",
       "        });\n",
       "        require(['plotly'], function(Plotly) {\n",
       "            window._Plotly = Plotly;\n",
       "        });\n",
       "        }\n",
       "        </script>\n",
       "        "
      ]
     },
     "metadata": {},
     "output_type": "display_data"
    }
   ],
   "source": [
    "import numpy as np\n",
    "import pandas as pd\n",
    "import matplotlib.pyplot as plt\n",
    "from scipy import stats \n",
    "from scipy.stats import truncnorm\n",
    "import statsmodels.api as sm\n",
    "from statsmodels.stats.weightstats import ztest\n",
    "from IPython.display import display, Math, Latex\n",
    "import plotly.offline as py\n",
    "import plotly.graph_objs as go\n",
    "py.init_notebook_mode(connected=True)\n",
    "import statsmodels\n",
    "import statsmodels.api as sm\n",
    "from statsmodels.formula.api import ols\n",
    "import seaborn as sns\n",
    "import random\n",
    "import warnings\n",
    "import sklearn.metrics\n",
    "from sklearn.metrics import confusion_matrix\n",
    "from scipy.stats import chi2_contingency,chi2\n",
    "from scipy.stats.distributions import chi2\n",
    "import scipy, scipy.stats\n",
    "warnings.filterwarnings(\"ignore\")\n",
    "%matplotlib inline\n",
    "import pylab \n",
    "import statsmodels.formula.api as smf"
   ]
  },
  {
   "cell_type": "markdown",
   "metadata": {},
   "source": [
    "### Fencing for outliers"
   ]
  },
  {
   "cell_type": "code",
   "execution_count": 7,
   "metadata": {},
   "outputs": [],
   "source": [
    "df = pd.read_csv('EDA_human_temperature/data/human_body_temperature.csv')"
   ]
  },
  {
   "cell_type": "code",
   "execution_count": 8,
   "metadata": {},
   "outputs": [
    {
     "data": {
      "text/html": [
       "<div>\n",
       "<style scoped>\n",
       "    .dataframe tbody tr th:only-of-type {\n",
       "        vertical-align: middle;\n",
       "    }\n",
       "\n",
       "    .dataframe tbody tr th {\n",
       "        vertical-align: top;\n",
       "    }\n",
       "\n",
       "    .dataframe thead th {\n",
       "        text-align: right;\n",
       "    }\n",
       "</style>\n",
       "<table border=\"1\" class=\"dataframe\">\n",
       "  <thead>\n",
       "    <tr style=\"text-align: right;\">\n",
       "      <th></th>\n",
       "      <th>temperature</th>\n",
       "      <th>gender</th>\n",
       "      <th>heart_rate</th>\n",
       "      <th>temperature2</th>\n",
       "    </tr>\n",
       "  </thead>\n",
       "  <tbody>\n",
       "    <tr>\n",
       "      <th>0</th>\n",
       "      <td>99.3</td>\n",
       "      <td>F</td>\n",
       "      <td>68.0</td>\n",
       "      <td>99.5</td>\n",
       "    </tr>\n",
       "    <tr>\n",
       "      <th>1</th>\n",
       "      <td>98.4</td>\n",
       "      <td>F</td>\n",
       "      <td>81.0</td>\n",
       "      <td>98.6</td>\n",
       "    </tr>\n",
       "    <tr>\n",
       "      <th>2</th>\n",
       "      <td>97.8</td>\n",
       "      <td>M</td>\n",
       "      <td>73.0</td>\n",
       "      <td>98.0</td>\n",
       "    </tr>\n",
       "    <tr>\n",
       "      <th>3</th>\n",
       "      <td>99.2</td>\n",
       "      <td>F</td>\n",
       "      <td>66.0</td>\n",
       "      <td>99.4</td>\n",
       "    </tr>\n",
       "    <tr>\n",
       "      <th>4</th>\n",
       "      <td>98.0</td>\n",
       "      <td>F</td>\n",
       "      <td>73.0</td>\n",
       "      <td>98.2</td>\n",
       "    </tr>\n",
       "  </tbody>\n",
       "</table>\n",
       "</div>"
      ],
      "text/plain": [
       "   temperature gender  heart_rate  temperature2\n",
       "0         99.3      F        68.0          99.5\n",
       "1         98.4      F        81.0          98.6\n",
       "2         97.8      M        73.0          98.0\n",
       "3         99.2      F        66.0          99.4\n",
       "4         98.0      F        73.0          98.2"
      ]
     },
     "execution_count": 8,
     "metadata": {},
     "output_type": "execute_result"
    }
   ],
   "source": [
    "df['temperature2']=df['temperature']+.2\n",
    "df.head()"
   ]
  },
  {
   "cell_type": "code",
   "execution_count": 9,
   "metadata": {},
   "outputs": [],
   "source": [
    "def fence_outliers(df,column,quartile=False):\n",
    "    '''\n",
    "    This function does fencing using either Quartile or Standard Deviation\n",
    "    and return the fencing so that you can using pandas boolean masking \n",
    "    to investigate the outliers and remove them if necessary.\n",
    "    '''\n",
    "    observed_column=df[column]\n",
    "    observed_column_std=df[column].std()\n",
    "    observed_column_mean=df[column].mean()\n",
    "    if quartile==True:\n",
    "        print('Quartile Outliers')\n",
    "        quartile_1=np.percentile(observed_column, 25)\n",
    "        quartile_3=np.percentile(observed_column, 75)\n",
    "        inter_quartile_range=quartile_3-quartile_1\n",
    "        Inner_fence=1.5*(inter_quartile_range)\n",
    "        Outer_fence=3*inter_quartile_range\n",
    "        #Fences for viewing outliers\n",
    "        #mild outliers\n",
    "        inner_lower_fence=quartile_1-Inner_fence\n",
    "        inner_upper_fence=quartile_3+Inner_fence\n",
    "        #strong outliers\n",
    "        outer_lower_fence=quartile_1-Outer_fence\n",
    "        outer_upper_fence=quartile_3+Outer_fence\n",
    "    else:\n",
    "        print('Standard Deviation Outliers')\n",
    "        Inner_fence=3*observed_column_std\n",
    "        Outer_fence=4*observed_column_std\n",
    "        #Fences for viewing outliers\n",
    "        #mild outliers\n",
    "        inner_lower_fence=observed_column_mean-Inner_fence\n",
    "        inner_upper_fence=observed_column_mean+Inner_fence\n",
    "        #strong outliers\n",
    "        outer_lower_fence=observed_column_mean-Outer_fence\n",
    "        outer_upper_fence=observed_column_mean+Outer_fence\n",
    "    return outer_lower_fence,inner_lower_fence,inner_upper_fence,outer_upper_fence"
   ]
  },
  {
   "cell_type": "code",
   "execution_count": 10,
   "metadata": {},
   "outputs": [
    {
     "name": "stdout",
     "output_type": "stream",
     "text": [
      "Standard Deviation Outliers\n"
     ]
    }
   ],
   "source": [
    "outer_lower_fence,inner_lower_fence,inner_upper_fence,outer_upper_fence=fence_outliers(df,'temperature',quartile=False)"
   ]
  },
  {
   "cell_type": "code",
   "execution_count": 11,
   "metadata": {},
   "outputs": [
    {
     "name": "stdout",
     "output_type": "stream",
     "text": [
      "Mild Outliers:\n",
      "Median: 98.3\n",
      "Inner Fence: 96.04968129511394 & 100.44878024334761\n"
     ]
    },
    {
     "data": {
      "text/html": [
       "<div>\n",
       "<style scoped>\n",
       "    .dataframe tbody tr th:only-of-type {\n",
       "        vertical-align: middle;\n",
       "    }\n",
       "\n",
       "    .dataframe tbody tr th {\n",
       "        vertical-align: top;\n",
       "    }\n",
       "\n",
       "    .dataframe thead th {\n",
       "        text-align: right;\n",
       "    }\n",
       "</style>\n",
       "<table border=\"1\" class=\"dataframe\">\n",
       "  <thead>\n",
       "    <tr style=\"text-align: right;\">\n",
       "      <th></th>\n",
       "      <th>temperature</th>\n",
       "      <th>gender</th>\n",
       "      <th>heart_rate</th>\n",
       "      <th>temperature2</th>\n",
       "    </tr>\n",
       "  </thead>\n",
       "  <tbody>\n",
       "    <tr>\n",
       "      <th>116</th>\n",
       "      <td>100.8</td>\n",
       "      <td>F</td>\n",
       "      <td>77.0</td>\n",
       "      <td>101.0</td>\n",
       "    </tr>\n",
       "  </tbody>\n",
       "</table>\n",
       "</div>"
      ],
      "text/plain": [
       "     temperature gender  heart_rate  temperature2\n",
       "116        100.8      F        77.0         101.0"
      ]
     },
     "execution_count": 11,
     "metadata": {},
     "output_type": "execute_result"
    }
   ],
   "source": [
    "print('Mild Outliers:')\n",
    "print('Median:',df.temperature.median())\n",
    "print('Inner Fence:',inner_lower_fence,'&',inner_upper_fence)\n",
    "comparison=(df['temperature']<inner_lower_fence) | (df['temperature']>inner_upper_fence)\n",
    "df[comparison]"
   ]
  },
  {
   "cell_type": "markdown",
   "metadata": {},
   "source": [
    "### Test Normality"
   ]
  },
  {
   "cell_type": "code",
   "execution_count": 12,
   "metadata": {},
   "outputs": [],
   "source": [
    "def test_normality(df,column):\n",
    "    '''\n",
    "    Test whether a column is normally distributed.\n",
    "    '''\n",
    "    #https://docs.scipy.org/doc/scipy/reference/generated/scipy.stats.normaltest.html\n",
    "    norm=stats.normaltest(df[column])\n",
    "    print('test statistic: ',norm[0])\n",
    "    if(norm[1] < 0.05):\n",
    "        print(\"P-value: \",norm[1],\"\\nRejected: differs from a normal distribution.\")\n",
    "    else:\n",
    "        print(\"P-value: \",norm[1],\"\\nNot Rejected: does not differ from a normal distribution.\")"
   ]
  },
  {
   "cell_type": "code",
   "execution_count": 13,
   "metadata": {},
   "outputs": [
    {
     "name": "stdout",
     "output_type": "stream",
     "text": [
      "test statistic:  2.703801433319203\n",
      "P-value:  0.2587479863488254 \n",
      "Not Rejected: does not differ from a normal distribution.\n"
     ]
    }
   ],
   "source": [
    "test_normality(df,'temperature')"
   ]
  },
  {
   "cell_type": "markdown",
   "metadata": {},
   "source": [
    "### One Sample Z-test (Means)"
   ]
  },
  {
   "cell_type": "code",
   "execution_count": 14,
   "metadata": {},
   "outputs": [
    {
     "data": {
      "text/latex": [
       "$$H_{0} : \\mu_{w} - \\bar x_{s} = 0 \\\\ H_{1} : \\mu_{w} - \\bar x_{s} \\geq 0 $$"
      ],
      "text/plain": [
       "<IPython.core.display.Math object>"
      ]
     },
     "execution_count": 14,
     "metadata": {},
     "output_type": "execute_result"
    }
   ],
   "source": [
    "Math(r'H_{0} : \\mu_{w} - \\bar x_{s} = 0 \\\\ H_{1} : \\mu_{w} - \\bar x_{s} \\geq 0 ')"
   ]
  },
  {
   "cell_type": "code",
   "execution_count": 15,
   "metadata": {},
   "outputs": [
    {
     "data": {
      "text/latex": [
       "$$z: = \\dfrac{(x_i - \\mu_0)}{{s_i}}$$"
      ],
      "text/plain": [
       "<IPython.core.display.Math object>"
      ]
     },
     "execution_count": 15,
     "metadata": {},
     "output_type": "execute_result"
    }
   ],
   "source": [
    "Math(r'z: = \\dfrac{(x_i - \\mu_0)}{{s_i}}')"
   ]
  },
  {
   "cell_type": "code",
   "execution_count": 16,
   "metadata": {},
   "outputs": [],
   "source": [
    "def one_sample_z_test(df,column,test_value):\n",
    "    '''\n",
    "    Test a difference between observed and expected.\n",
    "    https://www.statsmodels.org/dev/generated/statsmodels.stats.weightstats.ztest.html\n",
    "    '''\n",
    "    zscore=ztest(df[column],value=test_value)\n",
    "    print('z-statistic:', zscore[0],' \\n p-value:', zscore[1])\n",
    "    if zscore[1]<.05:\n",
    "        print('Our sample mean:',(df[column].mean()))\n",
    "        print(\"Conclusion: We reject the null hypothesis.\")\n",
    "    else:\n",
    "        print(\"Conclusion: We fail reject the null hypothesis.\")   \n",
    "        return"
   ]
  },
  {
   "cell_type": "code",
   "execution_count": 17,
   "metadata": {},
   "outputs": [
    {
     "name": "stdout",
     "output_type": "stream",
     "text": [
      "z-statistic: -5.4548232923645195  \n",
      " p-value: 4.9021570141012155e-08\n",
      "Our sample mean: 98.24923076923078\n",
      "Conclusion: We reject the null hypothesis.\n"
     ]
    }
   ],
   "source": [
    "one_sample_z_test(df,'temperature',98.6)"
   ]
  },
  {
   "cell_type": "markdown",
   "metadata": {},
   "source": [
    "### Two Sample Z-test (Means)"
   ]
  },
  {
   "cell_type": "code",
   "execution_count": 18,
   "metadata": {},
   "outputs": [],
   "source": [
    "def two_sample_z_test(df,column1,column2):\n",
    "    '''\n",
    "    Test a difference between observed and expected.\n",
    "    https://www.statsmodels.org/dev/generated/statsmodels.stats.weightstats.ztest.html\n",
    "    '''\n",
    "    zscore=ztest(df[column1],df[column2],alternative='two-sided')\n",
    "    print('z-statistic:', zscore[0],' \\n p-value:', zscore[1])\n",
    "    if zscore[1]<.05:\n",
    "        print('Our sample mean 1:',(df[column1].mean()))\n",
    "        print('Our sample mean 2:',(df[column2].mean()))\n",
    "        print(\"Conclusion: We reject the null hypothesis.\")\n",
    "    else:\n",
    "        print(\"Conclusion: We fail reject the null hypothesis.\")   \n",
    "        return"
   ]
  },
  {
   "cell_type": "code",
   "execution_count": 19,
   "metadata": {},
   "outputs": [
    {
     "name": "stdout",
     "output_type": "stream",
     "text": [
      "z-statistic: -2.199247939590984  \n",
      " p-value: 0.027860297261270997\n",
      "Our sample mean 1: 98.24923076923078\n",
      "Our sample mean 2: 98.4492307692308\n",
      "Conclusion: We reject the null hypothesis.\n"
     ]
    }
   ],
   "source": [
    "two_sample_z_test(df,'temperature','temperature2')"
   ]
  },
  {
   "cell_type": "markdown",
   "metadata": {},
   "source": [
    "### Two Sample Z-test for Proportions"
   ]
  },
  {
   "cell_type": "code",
   "execution_count": 20,
   "metadata": {},
   "outputs": [
    {
     "data": {
      "text/latex": [
       "$$z: = \\dfrac{(p_1 - p_2)}{\\sqrt{\\dfrac{p_1*(1-p_1)}{n_1} + \\dfrac{p_2*(1-p_2)}{n_2} }}$$"
      ],
      "text/plain": [
       "<IPython.core.display.Math object>"
      ]
     },
     "execution_count": 20,
     "metadata": {},
     "output_type": "execute_result"
    }
   ],
   "source": [
    "Math(r'z: = \\dfrac{(p_1 - p_2)}{\\sqrt{\\dfrac{p_1*(1-p_1)}{n_1} + \\dfrac{p_2*(1-p_2)}{n_2} }}')"
   ]
  },
  {
   "cell_type": "code",
   "execution_count": 21,
   "metadata": {},
   "outputs": [],
   "source": [
    "data = pd.io.stata.read_stata('EDA_racial_discrimination/data/us_job_market_discrimination.dta')"
   ]
  },
  {
   "cell_type": "code",
   "execution_count": 22,
   "metadata": {},
   "outputs": [],
   "source": [
    "w,b=data.race.value_counts()\n",
    "calls_nw,calls_w=data.call[data.race=='w'].value_counts()\n",
    "calls_nb,calls_b=data.call[data.race=='b'].value_counts()\n",
    "c1,n1,c2,n2=calls_b,w,calls_w,b\n",
    "p1=c1/n1\n",
    "p2=c2/n2\n",
    "count =(c1,c2)\n",
    "nobs =(n1,n2)"
   ]
  },
  {
   "cell_type": "code",
   "execution_count": 85,
   "metadata": {},
   "outputs": [],
   "source": [
    "from statsmodels.stats.proportion import proportions_ztest\n",
    "\n",
    "def two_sample_z_test_proportions(count, nobs):\n",
    "    '''\n",
    "    Test whether one proportion is different from another.\n",
    "    '''\n",
    "    zstat, pval = proportions_ztest(count, nobs, value=0, alternative='two-sided')\n",
    "    print('Estimate:',zstat,'\\np-value:',pval)\n"
   ]
  },
  {
   "cell_type": "code",
   "execution_count": 24,
   "metadata": {},
   "outputs": [],
   "source": [
    "def two_proportions_confint(success_a, size_a, success_b, size_b, significance = 0.05):\n",
    "    \"\"\"\n",
    "    A/B test for two proportions;\n",
    "    given a success a trial size of group A and B compute\n",
    "    its confidence interval;\n",
    "    resulting confidence interval matches R's prop.test function\n",
    "    https://stackoverflow.com/questions/47570903/confidence-interval-for-the-difference-between-two-proportions-in-python?rq=1\n",
    "   \n",
    "   Parameters\n",
    "    ----------\n",
    "    success_a, success_b : int\n",
    "        Number of successes in each group\n",
    "\n",
    "    size_a, size_b : int\n",
    "        Size, or number of observations in each group\n",
    "\n",
    "    significance : float, default 0.05\n",
    "        Often denoted as alpha. Governs the chance of a false positive.\n",
    "        A significance level of 0.05 means that there is a 5% chance of\n",
    "        a false positive. In other words, our confidence level is\n",
    "        1 - 0.05 = 0.95\n",
    "\n",
    "    Returns\n",
    "    -------\n",
    "    prop_diff : float\n",
    "        Difference between the two proportion\n",
    "\n",
    "    confint : 1d ndarray\n",
    "        Confidence interval of the two proportion test\n",
    "    \"\"\"\n",
    "    prop_a = success_a / size_a\n",
    "    prop_b = success_b / size_b\n",
    "    var = prop_a * (1 - prop_a) / size_a + prop_b * (1 - prop_b) / size_b\n",
    "    se = np.sqrt(var)\n",
    "\n",
    "    # z critical value\n",
    "    confidence = 1 - significance\n",
    "    z = stats.norm(loc = 0, scale = 1).ppf(confidence + significance / 2)\n",
    "\n",
    "    # standard formula for the confidence interval point-estimtate +- z * standard-error\n",
    "    prop_diff = prop_b - prop_a\n",
    "    confint = prop_diff + np.array([-1, 1]) * z * se\n",
    "    return prop_diff, confint"
   ]
  },
  {
   "cell_type": "code",
   "execution_count": 25,
   "metadata": {},
   "outputs": [
    {
     "name": "stdout",
     "output_type": "stream",
     "text": [
      "Estimate: -4.108412152434346 \n",
      "p-value: 3.983886837585077e-05\n"
     ]
    }
   ],
   "source": [
    "two_sample_z_test_proportions(count, nobs)"
   ]
  },
  {
   "cell_type": "code",
   "execution_count": 26,
   "metadata": {},
   "outputs": [
    {
     "data": {
      "text/plain": [
       "(0.032032854209445585, array([0.01677773, 0.04728798]))"
      ]
     },
     "execution_count": 26,
     "metadata": {},
     "output_type": "execute_result"
    }
   ],
   "source": [
    "two_proportions_confint(c1,n1,c2,n2, significance = 0.05)"
   ]
  },
  {
   "cell_type": "markdown",
   "metadata": {},
   "source": [
    "### One Sample T-test (Means)"
   ]
  },
  {
   "cell_type": "code",
   "execution_count": 27,
   "metadata": {},
   "outputs": [
    {
     "data": {
      "text/latex": [
       "$$t: = \\dfrac{(x_i - \\mu_0)}{ \\dfrac{s_i}{ \\sqrt{n}}}$$"
      ],
      "text/plain": [
       "<IPython.core.display.Math object>"
      ]
     },
     "execution_count": 27,
     "metadata": {},
     "output_type": "execute_result"
    }
   ],
   "source": [
    "Math(r't: = \\dfrac{(x_i - \\mu_0)}{ \\dfrac{s_i}{ \\sqrt{n}}}')"
   ]
  },
  {
   "cell_type": "code",
   "execution_count": 28,
   "metadata": {},
   "outputs": [],
   "source": [
    "data1 = np.random.normal(0, 1, size=50)\n",
    "data2 = np.random.normal(2, 1, size=50)\n",
    "true_mu = 0\n",
    "\n",
    "def one_sample_t_test(sample_mean,pop_mean):\n",
    "    '''\n",
    "    Test if the sample mean is different than the population mean.\n",
    "    https://docs.scipy.org/doc/scipy/reference/generated/scipy.stats.ttest_1samp.html\n",
    "    '''\n",
    "    stat,pvalue = stats.ttest_1samp(sample_mean,pop_mean)\n",
    "    print('t-statistic:', stat,' \\n p-value:', pvalue)\n",
    "    if pvalue<.05:\n",
    "        print('Our sample mean:',sample_mean.mean())\n",
    "        print(\"Conclusion: We reject the null hypothesis.\")\n",
    "    else:\n",
    "        print(\"Conclusion: We fail to reject the null hypothesis.\")\n"
   ]
  },
  {
   "cell_type": "code",
   "execution_count": 29,
   "metadata": {},
   "outputs": [],
   "source": [
    "#sample_mean = df['temperature'].sample(100)"
   ]
  },
  {
   "cell_type": "code",
   "execution_count": 30,
   "metadata": {},
   "outputs": [
    {
     "name": "stdout",
     "output_type": "stream",
     "text": [
      "t-statistic: -1.7409276834639977  \n",
      " p-value: 0.08797260667021303\n",
      "Conclusion: We fail to reject the null hypothesis.\n"
     ]
    }
   ],
   "source": [
    "one_sample_t_test(data1,true_mu)"
   ]
  },
  {
   "cell_type": "markdown",
   "metadata": {},
   "source": [
    "### Two Sample T-test (Means)"
   ]
  },
  {
   "cell_type": "code",
   "execution_count": 31,
   "metadata": {},
   "outputs": [],
   "source": [
    "from scipy.stats import ttest_ind\n",
    "\n",
    "def two_sample_t_test(column1,column2):\n",
    "    '''\n",
    "    We can use this test, if we observe two independent samples from the\n",
    "    same or different population, e.g. exam scores of boys and girls or of \n",
    "    two ethnic groups. The test measures whether the average (expected) \n",
    "    value differs significantly across samples. \n",
    "    https://docs.scipy.org/doc/scipy/reference/generated/scipy.stats.ttest_ind.html\n",
    "    '''\n",
    "    stat,pval=ttest_ind(column1,column2)\n",
    "    print('t-statistic:', stat,' \\n p-value:', pval)\n",
    "    if pval<.05:\n",
    "        print('Our sample mean 1:',(column1.mean()))\n",
    "        print('Our sample mean 2:',(column2.mean()))\n",
    "        print(\"Conclusion: We reject the null hypothesis.\")\n",
    "    else:\n",
    "        print(\"Conclusion: We fail reject the null hypothesis.\")   \n",
    "        return"
   ]
  },
  {
   "cell_type": "code",
   "execution_count": 32,
   "metadata": {},
   "outputs": [
    {
     "name": "stdout",
     "output_type": "stream",
     "text": [
      "t-statistic: 2.2854345381656103  \n",
      " p-value: 0.02393188312239561\n",
      "Our sample mean 1: 98.39384615384613\n",
      "Our sample mean 2: 98.1046153846154\n",
      "Conclusion: We reject the null hypothesis.\n"
     ]
    }
   ],
   "source": [
    "two_sample_t_test(df.temperature[df['gender']=='F'],df.temperature[df['gender']=='M'])"
   ]
  },
  {
   "cell_type": "markdown",
   "metadata": {},
   "source": [
    "$$H_0 : \\mu_1 = \\mu_2 = \\mu_3 = \\mu_4 = \\mu_5$$"
   ]
  },
  {
   "cell_type": "markdown",
   "metadata": {},
   "source": [
    "$$H_1 : \\mu_i \\ne \\mu_j$$"
   ]
  },
  {
   "cell_type": "markdown",
   "metadata": {},
   "source": [
    "$$F = \\frac{MS_{b}} {MS_w}$$"
   ]
  },
  {
   "cell_type": "markdown",
   "metadata": {},
   "source": [
    "$$MS_{b} = \\frac{SS_{b}} {K-1}$$"
   ]
  },
  {
   "cell_type": "markdown",
   "metadata": {},
   "source": [
    "$$MS_{w} = \\frac{SS_{w}} {N-K}$$"
   ]
  },
  {
   "cell_type": "markdown",
   "metadata": {},
   "source": [
    "$$SS_{b} = {n_k\\sum(\\bar{x_{k}}-\\bar{x_{G}})^2}$$"
   ]
  },
  {
   "cell_type": "markdown",
   "metadata": {},
   "source": [
    "$$SS_{w} = \\sum(x_{i}-\\bar{x_{k}})^2$$"
   ]
  },
  {
   "cell_type": "markdown",
   "metadata": {},
   "source": [
    "### Anova"
   ]
  },
  {
   "cell_type": "code",
   "execution_count": 33,
   "metadata": {},
   "outputs": [],
   "source": [
    "tillamook = [0.0571, 0.0813, 0.0831, 0.0976, 0.0817, 0.0859, 0.0735,0.0659, 0.0923, 0.0836]\n",
    "newport = [0.0873, 0.0662, 0.0672, 0.0819, 0.0749, 0.0649, 0.0835,0.0725]\n",
    "petersburg = [0.0974, 0.1352, 0.0817, 0.1016, 0.0968, 0.1064, 0.105]\n",
    "magadan = [0.1033, 0.0915, 0.0781, 0.0685, 0.0677, 0.0697, 0.0764,0.0689]\n",
    "tvarminne = [0.0703, 0.1026, 0.0956, 0.0973, 0.1039, 0.1045]"
   ]
  },
  {
   "cell_type": "code",
   "execution_count": 34,
   "metadata": {},
   "outputs": [],
   "source": [
    "def three_way_anova(variable1,variable2,variable3):\n",
    "    variable_list=[variable1,variable2,variable3]\n",
    "    '''\n",
    "    The one-way ANOVA tests the null hypothesis that two or \n",
    "    more groups have the same population mean. \n",
    "    The test is applied to samples from two or more groups,\n",
    "    possibly with differing sizes.\n",
    "    The ANOVA test has important assumptions \n",
    "    that must be satisfied in order for the associated p-value to be valid.\n",
    "        The samples are independent.\n",
    "        Each sample is from a normally distributed population.\n",
    "        The population standard deviations of the groups are all equal. \n",
    "        This property is known as homoscedasticity.\n",
    "    https://docs.scipy.org/doc/scipy/reference/generated/scipy.stats.f_oneway.html\n",
    "    '''\n",
    "    stat,pvalue=stats.f_oneway(variable1,variable2,variable3)\n",
    "    print('F-statistic:', stat,' \\n p-value:', pvalue)\n",
    "    if pvalue<.05:\n",
    "        [print('Sample Mean:',np.mean(x)) for x in variable_list]\n",
    "        print(\"Conclusion: We reject the null hypothesis.\")\n",
    "    else:\n",
    "        print(\"Conclusion: We fail reject the null hypothesis.\")   \n",
    "        return"
   ]
  },
  {
   "cell_type": "code",
   "execution_count": 35,
   "metadata": {},
   "outputs": [
    {
     "name": "stdout",
     "output_type": "stream",
     "text": [
      "F-statistic: 11.200832489917023  \n",
      " p-value: 0.00044183251892694495\n",
      "Sample Mean: 0.0802\n",
      "Sample Mean: 0.07479999999999999\n",
      "Sample Mean: 0.10344285714285714\n",
      "Conclusion: We reject the null hypothesis.\n"
     ]
    }
   ],
   "source": [
    "three_way_anova(tillamook,newport,petersburg)"
   ]
  },
  {
   "cell_type": "markdown",
   "metadata": {},
   "source": [
    "### 2x2 Chi-Square Contingency Table"
   ]
  },
  {
   "cell_type": "code",
   "execution_count": 36,
   "metadata": {},
   "outputs": [
    {
     "data": {
      "text/latex": [
       "$$X^2: = \\dfrac{(O - E)^2}{E}$$"
      ],
      "text/plain": [
       "<IPython.core.display.Math object>"
      ]
     },
     "execution_count": 36,
     "metadata": {},
     "output_type": "execute_result"
    }
   ],
   "source": [
    "Math(r'X^2: = \\dfrac{(O - E)^2}{E}')"
   ]
  },
  {
   "cell_type": "markdown",
   "metadata": {},
   "source": [
    "*creating a contingency table*"
   ]
  },
  {
   "cell_type": "code",
   "execution_count": 37,
   "metadata": {},
   "outputs": [
    {
     "data": {
      "text/html": [
       "<div>\n",
       "<style scoped>\n",
       "    .dataframe tbody tr th:only-of-type {\n",
       "        vertical-align: middle;\n",
       "    }\n",
       "\n",
       "    .dataframe tbody tr th {\n",
       "        vertical-align: top;\n",
       "    }\n",
       "\n",
       "    .dataframe thead th {\n",
       "        text-align: right;\n",
       "    }\n",
       "</style>\n",
       "<table border=\"1\" class=\"dataframe\">\n",
       "  <thead>\n",
       "    <tr style=\"text-align: right;\">\n",
       "      <th></th>\n",
       "      <th>call</th>\n",
       "      <th>race</th>\n",
       "    </tr>\n",
       "  </thead>\n",
       "  <tbody>\n",
       "    <tr>\n",
       "      <th>0</th>\n",
       "      <td>0.0</td>\n",
       "      <td>w</td>\n",
       "    </tr>\n",
       "    <tr>\n",
       "      <th>1</th>\n",
       "      <td>0.0</td>\n",
       "      <td>w</td>\n",
       "    </tr>\n",
       "    <tr>\n",
       "      <th>2</th>\n",
       "      <td>0.0</td>\n",
       "      <td>b</td>\n",
       "    </tr>\n",
       "    <tr>\n",
       "      <th>3</th>\n",
       "      <td>0.0</td>\n",
       "      <td>b</td>\n",
       "    </tr>\n",
       "    <tr>\n",
       "      <th>4</th>\n",
       "      <td>0.0</td>\n",
       "      <td>w</td>\n",
       "    </tr>\n",
       "  </tbody>\n",
       "</table>\n",
       "</div>"
      ],
      "text/plain": [
       "   call race\n",
       "0   0.0    w\n",
       "1   0.0    w\n",
       "2   0.0    b\n",
       "3   0.0    b\n",
       "4   0.0    w"
      ]
     },
     "execution_count": 37,
     "metadata": {},
     "output_type": "execute_result"
    }
   ],
   "source": [
    "#Frequency table\n",
    "data_race_call=data[['call','race']]\n",
    "data_race_call.head()"
   ]
  },
  {
   "cell_type": "code",
   "execution_count": 38,
   "metadata": {},
   "outputs": [],
   "source": [
    "exposure=data_race_call.call\n",
    "treatment=data_race_call.race"
   ]
  },
  {
   "cell_type": "code",
   "execution_count": 39,
   "metadata": {},
   "outputs": [],
   "source": [
    "def chi_contingency_table(treatment,exposure):\n",
    "    '''\n",
    "    Treatment: \n",
    "    - Those whom were assigned a treatment and those not (case/control).\n",
    "    Exposure: \n",
    "    - The disease in question,  'exposed/unexposed'\n",
    "    '''\n",
    "    cross_tab=pd.crosstab(exposure,treatment,margins=True)\n",
    "    return cross_tab"
   ]
  },
  {
   "cell_type": "code",
   "execution_count": 40,
   "metadata": {},
   "outputs": [],
   "source": [
    "chi_contingency_table=chi_contingency_table(treatment,exposure)\n",
    "chi_contingency_table=chi_contingency_table.reindex([1, 0, \"All\"])\n",
    "chi_contingency_table.index=['Exposed','Unexposed','Total']\n",
    "chi_contingency_table.columns=['Case','Control','Total']"
   ]
  },
  {
   "cell_type": "markdown",
   "metadata": {},
   "source": [
    "*This is the format I like to see, but I've seen it displayed in different orientations*"
   ]
  },
  {
   "cell_type": "code",
   "execution_count": 41,
   "metadata": {},
   "outputs": [
    {
     "data": {
      "text/html": [
       "<div>\n",
       "<style scoped>\n",
       "    .dataframe tbody tr th:only-of-type {\n",
       "        vertical-align: middle;\n",
       "    }\n",
       "\n",
       "    .dataframe tbody tr th {\n",
       "        vertical-align: top;\n",
       "    }\n",
       "\n",
       "    .dataframe thead th {\n",
       "        text-align: right;\n",
       "    }\n",
       "</style>\n",
       "<table border=\"1\" class=\"dataframe\">\n",
       "  <thead>\n",
       "    <tr style=\"text-align: right;\">\n",
       "      <th></th>\n",
       "      <th>Case</th>\n",
       "      <th>Control</th>\n",
       "      <th>Total</th>\n",
       "    </tr>\n",
       "  </thead>\n",
       "  <tbody>\n",
       "    <tr>\n",
       "      <th>Exposed</th>\n",
       "      <td>157</td>\n",
       "      <td>235</td>\n",
       "      <td>392</td>\n",
       "    </tr>\n",
       "    <tr>\n",
       "      <th>Unexposed</th>\n",
       "      <td>2278</td>\n",
       "      <td>2200</td>\n",
       "      <td>4478</td>\n",
       "    </tr>\n",
       "    <tr>\n",
       "      <th>Total</th>\n",
       "      <td>2435</td>\n",
       "      <td>2435</td>\n",
       "      <td>4870</td>\n",
       "    </tr>\n",
       "  </tbody>\n",
       "</table>\n",
       "</div>"
      ],
      "text/plain": [
       "           Case  Control  Total\n",
       "Exposed     157      235    392\n",
       "Unexposed  2278     2200   4478\n",
       "Total      2435     2435   4870"
      ]
     },
     "execution_count": 41,
     "metadata": {},
     "output_type": "execute_result"
    }
   ],
   "source": [
    "chi_contingency_table"
   ]
  },
  {
   "cell_type": "code",
   "execution_count": 42,
   "metadata": {},
   "outputs": [
    {
     "data": {
      "text/html": [
       "<div>\n",
       "<style scoped>\n",
       "    .dataframe tbody tr th:only-of-type {\n",
       "        vertical-align: middle;\n",
       "    }\n",
       "\n",
       "    .dataframe tbody tr th {\n",
       "        vertical-align: top;\n",
       "    }\n",
       "\n",
       "    .dataframe thead th {\n",
       "        text-align: right;\n",
       "    }\n",
       "</style>\n",
       "<table border=\"1\" class=\"dataframe\">\n",
       "  <thead>\n",
       "    <tr style=\"text-align: right;\">\n",
       "      <th></th>\n",
       "      <th>Exposed</th>\n",
       "      <th>Unexposed</th>\n",
       "      <th>Total</th>\n",
       "    </tr>\n",
       "  </thead>\n",
       "  <tbody>\n",
       "    <tr>\n",
       "      <th>Case</th>\n",
       "      <td>157</td>\n",
       "      <td>2278</td>\n",
       "      <td>2435</td>\n",
       "    </tr>\n",
       "    <tr>\n",
       "      <th>Control</th>\n",
       "      <td>235</td>\n",
       "      <td>2200</td>\n",
       "      <td>2435</td>\n",
       "    </tr>\n",
       "    <tr>\n",
       "      <th>Total</th>\n",
       "      <td>392</td>\n",
       "      <td>4478</td>\n",
       "      <td>4870</td>\n",
       "    </tr>\n",
       "  </tbody>\n",
       "</table>\n",
       "</div>"
      ],
      "text/plain": [
       "         Exposed  Unexposed  Total\n",
       "Case         157       2278   2435\n",
       "Control      235       2200   2435\n",
       "Total        392       4478   4870"
      ]
     },
     "metadata": {},
     "output_type": "display_data"
    },
    {
     "data": {
      "text/html": [
       "<div>\n",
       "<style scoped>\n",
       "    .dataframe tbody tr th:only-of-type {\n",
       "        vertical-align: middle;\n",
       "    }\n",
       "\n",
       "    .dataframe tbody tr th {\n",
       "        vertical-align: top;\n",
       "    }\n",
       "\n",
       "    .dataframe thead th {\n",
       "        text-align: right;\n",
       "    }\n",
       "</style>\n",
       "<table border=\"1\" class=\"dataframe\">\n",
       "  <thead>\n",
       "    <tr style=\"text-align: right;\">\n",
       "      <th></th>\n",
       "      <th>Case</th>\n",
       "      <th>Control</th>\n",
       "      <th>Total</th>\n",
       "    </tr>\n",
       "  </thead>\n",
       "  <tbody>\n",
       "    <tr>\n",
       "      <th>Exposed</th>\n",
       "      <td>0.032238</td>\n",
       "      <td>0.048255</td>\n",
       "      <td>0.080493</td>\n",
       "    </tr>\n",
       "    <tr>\n",
       "      <th>Unexposed</th>\n",
       "      <td>0.467762</td>\n",
       "      <td>0.451745</td>\n",
       "      <td>0.919507</td>\n",
       "    </tr>\n",
       "    <tr>\n",
       "      <th>Total</th>\n",
       "      <td>0.500000</td>\n",
       "      <td>0.500000</td>\n",
       "      <td>1.000000</td>\n",
       "    </tr>\n",
       "  </tbody>\n",
       "</table>\n",
       "</div>"
      ],
      "text/plain": [
       "               Case   Control     Total\n",
       "Exposed    0.032238  0.048255  0.080493\n",
       "Unexposed  0.467762  0.451745  0.919507\n",
       "Total      0.500000  0.500000  1.000000"
      ]
     },
     "metadata": {},
     "output_type": "display_data"
    }
   ],
   "source": [
    "#Probability table\n",
    "chi_contingency_table_prob=chi_contingency_table/4870\n",
    "chi_contingency_table_freq=chi_contingency_table.T\n",
    "display(chi_contingency_table_freq) \n",
    "display(chi_contingency_table_prob)"
   ]
  },
  {
   "cell_type": "markdown",
   "metadata": {},
   "source": [
    "$$OR= \\dfrac{(a*c)}{(b*d)}$$"
   ]
  },
  {
   "cell_type": "markdown",
   "metadata": {},
   "source": [
    "$$OR_{CI}=  1.96*se*\\sqrt{\\frac{1}{a}*\\frac{1}{b}*\\frac{1}{c}*\\frac{1}{d}}$$"
   ]
  },
  {
   "cell_type": "markdown",
   "metadata": {},
   "source": [
    "$$where:\n",
    "    se=log(OR)$$"
   ]
  },
  {
   "cell_type": "code",
   "execution_count": 43,
   "metadata": {},
   "outputs": [],
   "source": [
    "def chi_square_stats(chi_contingency_table_freq):\n",
    "    '''\n",
    "    Takes in a table in the format above and returns:\n",
    "    - Odds Ratio\n",
    "    - Risk Ratio (Relative Risk)\n",
    "    - Phi Coefficient\n",
    "    - Likely-hood Ratio\n",
    "    - ChiSquare pval\n",
    "    '''\n",
    "    chiSquareTemp=chi_contingency_table_freq\n",
    "    #observed\n",
    "    a,b,c,d=chiSquareTemp.iloc[1,1],chiSquareTemp.iloc[1,0],\\\n",
    "    chiSquareTemp.iloc[0,1],chiSquareTemp.iloc[0,0]\n",
    "    #Totals\n",
    "    col1Sum=np.sum(a+c)\n",
    "    col2Sum=np.sum(b+d)\n",
    "    row1Sum=np.sum(a+b)\n",
    "    row2Sum=np.sum(c+d)\n",
    "    totalSum=np.sum(col1Sum+col2Sum)\n",
    "       #row total               column total\n",
    "    e=(col1Sum*row1Sum)/totalSum #a expected\n",
    "    f=(col2Sum*row1Sum)/totalSum #b expected\n",
    "\n",
    "    g=(col1Sum*row2Sum)/totalSum #c expected\n",
    "    h=(col2Sum*row2Sum)/totalSum #d expected\n",
    "    #Modify table labels\n",
    "    obs=pd.DataFrame([[a,b],[c,d]])\n",
    "\n",
    "    #Get Chi2 and LR for table\n",
    "    chi2, pvalue1, dof1, expected1 = chi2_contingency(obs,correction=True)\n",
    "    LR, pvalue2, dof2, expected2 = chi2_contingency(obs, lambda_=\"log-likelihood\")\n",
    "    #calculated phi for table\n",
    "    phi=(a*d-b*c)/np.sqrt((a+b)*(c+d)*(a+c)*(b+d))\n",
    "    phiTable=list([phi,'',''])\n",
    "    estimates=pd.DataFrame([[chi2,dof1,pvalue1],[LR,dof2,pvalue2],phiTable],columns=['Value','DF','Prob'])\n",
    "    #Rename Indexes \n",
    "    estimates.rename(index={0: 'Chi-Square',1: 'Likelihood Ratio Chi2',2:'Phi Coefficient'},inplace=True)\n",
    "\n",
    "\n",
    "    table = np.asarray(obs)\n",
    "    results = sm.stats.Table2x2(table.T)\n",
    "    print(results.summary())\n",
    "    return estimates"
   ]
  },
  {
   "cell_type": "code",
   "execution_count": 44,
   "metadata": {},
   "outputs": [
    {
     "name": "stdout",
     "output_type": "stream",
     "text": [
      "               Estimate   SE   LCB    UCB   p-value\n",
      "---------------------------------------------------\n",
      "Odds ratio        0.645        0.523  0.796   0.000\n",
      "Log odds ratio   -0.438 0.107 -0.649 -0.228   0.000\n",
      "Risk ratio        0.820        0.752  0.893   0.000\n",
      "Log risk ratio   -0.199 0.044 -0.285 -0.113   0.000\n",
      "---------------------------------------------------\n"
     ]
    },
    {
     "data": {
      "text/html": [
       "<div>\n",
       "<style scoped>\n",
       "    .dataframe tbody tr th:only-of-type {\n",
       "        vertical-align: middle;\n",
       "    }\n",
       "\n",
       "    .dataframe tbody tr th {\n",
       "        vertical-align: top;\n",
       "    }\n",
       "\n",
       "    .dataframe thead th {\n",
       "        text-align: right;\n",
       "    }\n",
       "</style>\n",
       "<table border=\"1\" class=\"dataframe\">\n",
       "  <thead>\n",
       "    <tr style=\"text-align: right;\">\n",
       "      <th></th>\n",
       "      <th>Value</th>\n",
       "      <th>DF</th>\n",
       "      <th>Prob</th>\n",
       "    </tr>\n",
       "  </thead>\n",
       "  <tbody>\n",
       "    <tr>\n",
       "      <th>Chi-Square</th>\n",
       "      <td>16.449029</td>\n",
       "      <td>1</td>\n",
       "      <td>4.99758e-05</td>\n",
       "    </tr>\n",
       "    <tr>\n",
       "      <th>Likelihood Ratio Chi2</th>\n",
       "      <td>16.547891</td>\n",
       "      <td>1</td>\n",
       "      <td>4.74367e-05</td>\n",
       "    </tr>\n",
       "    <tr>\n",
       "      <th>Phi Coefficient</th>\n",
       "      <td>-0.058872</td>\n",
       "      <td></td>\n",
       "      <td></td>\n",
       "    </tr>\n",
       "  </tbody>\n",
       "</table>\n",
       "</div>"
      ],
      "text/plain": [
       "                           Value DF         Prob\n",
       "Chi-Square             16.449029  1  4.99758e-05\n",
       "Likelihood Ratio Chi2  16.547891  1  4.74367e-05\n",
       "Phi Coefficient        -0.058872                "
      ]
     },
     "execution_count": 44,
     "metadata": {},
     "output_type": "execute_result"
    }
   ],
   "source": [
    "chi_square_stats(chi_contingency_table_freq)"
   ]
  },
  {
   "cell_type": "markdown",
   "metadata": {},
   "source": [
    "### Linear Regression"
   ]
  },
  {
   "cell_type": "markdown",
   "metadata": {},
   "source": [
    "$$Y = \\beta_0 + \\beta_1 X + \\epsilon$$"
   ]
  },
  {
   "cell_type": "markdown",
   "metadata": {},
   "source": [
    "$$\\hat{\\beta}_{xy} = \\frac{\\sum\\limits_{i=1}^{n}(x_{i}-\\bar{x})(y_{i}-\\bar{y})}    {\\sum\\limits_{i=1}^{n}(x_{i}-\\bar{x})^2}$$"
   ]
  },
  {
   "cell_type": "markdown",
   "metadata": {},
   "source": [
    "*OR*"
   ]
  },
  {
   "cell_type": "markdown",
   "metadata": {},
   "source": [
    "$$\\hat\\beta =  (X^T X)^{-1}X^T Y$$"
   ]
  },
  {
   "cell_type": "code",
   "execution_count": 45,
   "metadata": {},
   "outputs": [],
   "source": [
    "from sklearn.datasets import load_boston\n",
    "boston = load_boston()\n",
    "bos = pd.DataFrame(boston.data)\n",
    "bos.columns = boston.feature_names\n",
    "bos['PRICE'] = boston.target"
   ]
  },
  {
   "cell_type": "code",
   "execution_count": 46,
   "metadata": {},
   "outputs": [],
   "source": [
    "from sklearn.linear_model import LinearRegression \n",
    "from sklearn import feature_selection\n",
    "\n",
    "def linear_regression(X, y):\n",
    "    '''\n",
    "    Regression Function for this project.\n",
    "    '''\n",
    "    X_reshape=X.values.reshape(-1,1)\n",
    "    reg = LinearRegression().fit(X_reshape, y)\n",
    "    intercept = reg.intercept_\n",
    "    coef = reg.coef_\n",
    "    predict=reg.predict(X_reshape)\n",
    "    r2 = reg.score(X_reshape, y)\n",
    "    fstat,pvalue=sklearn.feature_selection.f_regression(X_reshape, y)\n",
    "    fstat[0],r2,pvalue[0],intercept,coef,predict\n",
    "    try:\n",
    "        sns.jointplot(X, y, kind=\"reg\")\n",
    "    except:\n",
    "        print(\"Can't Plot.\")\n",
    "    return "
   ]
  },
  {
   "cell_type": "code",
   "execution_count": 47,
   "metadata": {},
   "outputs": [
    {
     "data": {
      "image/png": "[encoded data removed]",
      "text/plain": [
       "<Figure size 432x432 with 3 Axes>"
      ]
     },
     "metadata": {},
     "output_type": "display_data"
    }
   ],
   "source": [
    "linear_regression(bos.PTRATIO, bos.PRICE)"
   ]
  },
  {
   "cell_type": "markdown",
   "metadata": {},
   "source": [
    "### Logistic Regression"
   ]
  },
  {
   "cell_type": "markdown",
   "metadata": {},
   "source": [
    "$$ln(\\frac {\\hat{p}}{1-\\hat{p}})=\\beta_0 + \\beta_1 X + \\beta_2 X +...+ \\beta_{n} + \\epsilon$$"
   ]
  },
  {
   "cell_type": "code",
   "execution_count": 48,
   "metadata": {},
   "outputs": [],
   "source": [
    "data = pd.io.stata.read_stata('EDA_racial_discrimination/data/us_job_market_discrimination.dta')"
   ]
  },
  {
   "cell_type": "code",
   "execution_count": 54,
   "metadata": {},
   "outputs": [],
   "source": [
    "x_cols=['education','honors','volunteer','military','empholes','compreq','orgreq','manuf','transcom','bankreal','trade','busservice','othservice']\n",
    "y_col=['call']"
   ]
  },
  {
   "cell_type": "code",
   "execution_count": 55,
   "metadata": {},
   "outputs": [
    {
     "data": {
      "text/html": [
       "<div>\n",
       "<style scoped>\n",
       "    .dataframe tbody tr th:only-of-type {\n",
       "        vertical-align: middle;\n",
       "    }\n",
       "\n",
       "    .dataframe tbody tr th {\n",
       "        vertical-align: top;\n",
       "    }\n",
       "\n",
       "    .dataframe thead th {\n",
       "        text-align: right;\n",
       "    }\n",
       "</style>\n",
       "<table border=\"1\" class=\"dataframe\">\n",
       "  <thead>\n",
       "    <tr style=\"text-align: right;\">\n",
       "      <th></th>\n",
       "      <th>education</th>\n",
       "      <th>honors</th>\n",
       "      <th>volunteer</th>\n",
       "      <th>military</th>\n",
       "      <th>empholes</th>\n",
       "      <th>compreq</th>\n",
       "      <th>orgreq</th>\n",
       "      <th>manuf</th>\n",
       "      <th>transcom</th>\n",
       "      <th>bankreal</th>\n",
       "      <th>trade</th>\n",
       "      <th>busservice</th>\n",
       "      <th>othservice</th>\n",
       "    </tr>\n",
       "  </thead>\n",
       "  <tbody>\n",
       "    <tr>\n",
       "      <th>0</th>\n",
       "      <td>4</td>\n",
       "      <td>0</td>\n",
       "      <td>0</td>\n",
       "      <td>0</td>\n",
       "      <td>1</td>\n",
       "      <td>1.0</td>\n",
       "      <td>0.0</td>\n",
       "      <td>1.0</td>\n",
       "      <td>0.0</td>\n",
       "      <td>0.0</td>\n",
       "      <td>0.0</td>\n",
       "      <td>0.0</td>\n",
       "      <td>0.0</td>\n",
       "    </tr>\n",
       "    <tr>\n",
       "      <th>1</th>\n",
       "      <td>3</td>\n",
       "      <td>0</td>\n",
       "      <td>1</td>\n",
       "      <td>1</td>\n",
       "      <td>0</td>\n",
       "      <td>1.0</td>\n",
       "      <td>0.0</td>\n",
       "      <td>1.0</td>\n",
       "      <td>0.0</td>\n",
       "      <td>0.0</td>\n",
       "      <td>0.0</td>\n",
       "      <td>0.0</td>\n",
       "      <td>0.0</td>\n",
       "    </tr>\n",
       "    <tr>\n",
       "      <th>2</th>\n",
       "      <td>4</td>\n",
       "      <td>0</td>\n",
       "      <td>0</td>\n",
       "      <td>0</td>\n",
       "      <td>0</td>\n",
       "      <td>1.0</td>\n",
       "      <td>0.0</td>\n",
       "      <td>1.0</td>\n",
       "      <td>0.0</td>\n",
       "      <td>0.0</td>\n",
       "      <td>0.0</td>\n",
       "      <td>0.0</td>\n",
       "      <td>0.0</td>\n",
       "    </tr>\n",
       "    <tr>\n",
       "      <th>3</th>\n",
       "      <td>3</td>\n",
       "      <td>0</td>\n",
       "      <td>1</td>\n",
       "      <td>0</td>\n",
       "      <td>1</td>\n",
       "      <td>1.0</td>\n",
       "      <td>0.0</td>\n",
       "      <td>1.0</td>\n",
       "      <td>0.0</td>\n",
       "      <td>0.0</td>\n",
       "      <td>0.0</td>\n",
       "      <td>0.0</td>\n",
       "      <td>0.0</td>\n",
       "    </tr>\n",
       "    <tr>\n",
       "      <th>4</th>\n",
       "      <td>3</td>\n",
       "      <td>0</td>\n",
       "      <td>0</td>\n",
       "      <td>0</td>\n",
       "      <td>0</td>\n",
       "      <td>1.0</td>\n",
       "      <td>1.0</td>\n",
       "      <td>0.0</td>\n",
       "      <td>0.0</td>\n",
       "      <td>0.0</td>\n",
       "      <td>0.0</td>\n",
       "      <td>0.0</td>\n",
       "      <td>1.0</td>\n",
       "    </tr>\n",
       "  </tbody>\n",
       "</table>\n",
       "</div>"
      ],
      "text/plain": [
       "   education  honors  volunteer  military  empholes  compreq  orgreq  manuf  \\\n",
       "0          4       0          0         0         1      1.0     0.0    1.0   \n",
       "1          3       0          1         1         0      1.0     0.0    1.0   \n",
       "2          4       0          0         0         0      1.0     0.0    1.0   \n",
       "3          3       0          1         0         1      1.0     0.0    1.0   \n",
       "4          3       0          0         0         0      1.0     1.0    0.0   \n",
       "\n",
       "   transcom  bankreal  trade  busservice  othservice  \n",
       "0       0.0       0.0    0.0         0.0         0.0  \n",
       "1       0.0       0.0    0.0         0.0         0.0  \n",
       "2       0.0       0.0    0.0         0.0         0.0  \n",
       "3       0.0       0.0    0.0         0.0         0.0  \n",
       "4       0.0       0.0    0.0         0.0         1.0  "
      ]
     },
     "execution_count": 55,
     "metadata": {},
     "output_type": "execute_result"
    }
   ],
   "source": [
    "data[x_cols].head()"
   ]
  },
  {
   "cell_type": "code",
   "execution_count": 56,
   "metadata": {},
   "outputs": [
    {
     "name": "stdout",
     "output_type": "stream",
     "text": [
      "<class 'pandas.core.frame.DataFrame'>\n",
      "Int64Index: 4870 entries, 0 to 4869\n",
      "Data columns (total 13 columns):\n",
      "education     4870 non-null int8\n",
      "honors        4870 non-null int8\n",
      "volunteer     4870 non-null int8\n",
      "military      4870 non-null int8\n",
      "empholes      4870 non-null int8\n",
      "compreq       4870 non-null float32\n",
      "orgreq        4870 non-null float32\n",
      "manuf         4870 non-null float32\n",
      "transcom      4870 non-null float32\n",
      "bankreal      4870 non-null float32\n",
      "trade         4870 non-null float32\n",
      "busservice    4870 non-null float32\n",
      "othservice    4870 non-null float32\n",
      "dtypes: float32(8), int8(5)\n",
      "memory usage: 214.0 KB\n"
     ]
    }
   ],
   "source": [
    "data[x_cols].info()"
   ]
  },
  {
   "cell_type": "code",
   "execution_count": 71,
   "metadata": {},
   "outputs": [],
   "source": [
    "def logistic_regression(df,x_cols,y_col):\n",
    "    '''\n",
    "    Performs logistic regression passing in a Pandas\n",
    "    DataFrame and returns coefficients.\n",
    "    '''\n",
    "    y=df[y_col]\n",
    "    X=df[x_cols]\n",
    "    X['intercept']=1\n",
    "    est = sm.Logit(y, X)\n",
    "    result = est.fit()\n",
    "    print(result.summary())\n",
    "    df_coef=pd.DataFrame(result.params)\n",
    "    df_coef.columns=['estimates']\n",
    "    return df_coef"
   ]
  },
  {
   "cell_type": "code",
   "execution_count": 72,
   "metadata": {},
   "outputs": [
    {
     "name": "stdout",
     "output_type": "stream",
     "text": [
      "Optimization terminated successfully.\n",
      "         Current function value: 0.272562\n",
      "         Iterations 7\n",
      "                           Logit Regression Results                           \n",
      "==============================================================================\n",
      "Dep. Variable:                   call   No. Observations:                 4870\n",
      "Model:                          Logit   Df Residuals:                     4856\n",
      "Method:                           MLE   Df Model:                           13\n",
      "Date:                Fri, 27 Sep 2019   Pseudo R-squ.:                 0.02646\n",
      "Time:                        10:21:31   Log-Likelihood:                -1327.4\n",
      "converged:                       True   LL-Null:                       -1363.5\n",
      "                                        LLR p-value:                 3.196e-10\n",
      "==============================================================================\n",
      "                 coef    std err          z      P>|z|      [0.025      0.975]\n",
      "------------------------------------------------------------------------------\n",
      "education     -0.0015      0.075     -0.020      0.984      -0.148       0.145\n",
      "honors         0.7443      0.184      4.034      0.000       0.383       1.106\n",
      "volunteer      0.1648      0.112      1.472      0.141      -0.055       0.384\n",
      "military      -0.2364      0.206     -1.147      0.251      -0.640       0.168\n",
      "empholes       0.4954      0.116      4.287      0.000       0.269       0.722\n",
      "compreq       -0.2963      0.115     -2.584      0.010      -0.521      -0.072\n",
      "orgreq        -0.6889      0.258     -2.673      0.008      -1.194      -0.184\n",
      "manuf         -0.3404      0.258     -1.320      0.187      -0.846       0.165\n",
      "transcom       0.5748      0.278      2.066      0.039       0.030       1.120\n",
      "bankreal      -0.0886      0.236     -0.376      0.707      -0.551       0.374\n",
      "trade         -0.1996      0.185     -1.078      0.281      -0.562       0.163\n",
      "busservice     0.0714      0.168      0.424      0.672      -0.259       0.401\n",
      "othservice     0.3111      0.181      1.714      0.086      -0.045       0.667\n",
      "intercept     -2.6436      0.330     -8.005      0.000      -3.291      -1.996\n",
      "==============================================================================\n"
     ]
    }
   ],
   "source": [
    "results=logistic_regression(data,x_cols,y_col)"
   ]
  },
  {
   "cell_type": "code",
   "execution_count": 75,
   "metadata": {},
   "outputs": [
    {
     "data": {
      "text/html": [
       "<div>\n",
       "<style scoped>\n",
       "    .dataframe tbody tr th:only-of-type {\n",
       "        vertical-align: middle;\n",
       "    }\n",
       "\n",
       "    .dataframe tbody tr th {\n",
       "        vertical-align: top;\n",
       "    }\n",
       "\n",
       "    .dataframe thead th {\n",
       "        text-align: right;\n",
       "    }\n",
       "</style>\n",
       "<table border=\"1\" class=\"dataframe\">\n",
       "  <thead>\n",
       "    <tr style=\"text-align: right;\">\n",
       "      <th></th>\n",
       "      <th>estimates</th>\n",
       "    </tr>\n",
       "  </thead>\n",
       "  <tbody>\n",
       "    <tr>\n",
       "      <th>education</th>\n",
       "      <td>-0.001526</td>\n",
       "    </tr>\n",
       "    <tr>\n",
       "      <th>honors</th>\n",
       "      <td>0.744278</td>\n",
       "    </tr>\n",
       "    <tr>\n",
       "      <th>volunteer</th>\n",
       "      <td>0.164770</td>\n",
       "    </tr>\n",
       "    <tr>\n",
       "      <th>military</th>\n",
       "      <td>-0.236417</td>\n",
       "    </tr>\n",
       "    <tr>\n",
       "      <th>empholes</th>\n",
       "      <td>0.495434</td>\n",
       "    </tr>\n",
       "    <tr>\n",
       "      <th>compreq</th>\n",
       "      <td>-0.296251</td>\n",
       "    </tr>\n",
       "    <tr>\n",
       "      <th>orgreq</th>\n",
       "      <td>-0.688924</td>\n",
       "    </tr>\n",
       "    <tr>\n",
       "      <th>manuf</th>\n",
       "      <td>-0.340363</td>\n",
       "    </tr>\n",
       "    <tr>\n",
       "      <th>transcom</th>\n",
       "      <td>0.574832</td>\n",
       "    </tr>\n",
       "    <tr>\n",
       "      <th>bankreal</th>\n",
       "      <td>-0.088639</td>\n",
       "    </tr>\n",
       "    <tr>\n",
       "      <th>trade</th>\n",
       "      <td>-0.199558</td>\n",
       "    </tr>\n",
       "    <tr>\n",
       "      <th>busservice</th>\n",
       "      <td>0.071395</td>\n",
       "    </tr>\n",
       "    <tr>\n",
       "      <th>othservice</th>\n",
       "      <td>0.311115</td>\n",
       "    </tr>\n",
       "    <tr>\n",
       "      <th>intercept</th>\n",
       "      <td>-2.643552</td>\n",
       "    </tr>\n",
       "  </tbody>\n",
       "</table>\n",
       "</div>"
      ],
      "text/plain": [
       "            estimates\n",
       "education   -0.001526\n",
       "honors       0.744278\n",
       "volunteer    0.164770\n",
       "military    -0.236417\n",
       "empholes     0.495434\n",
       "compreq     -0.296251\n",
       "orgreq      -0.688924\n",
       "manuf       -0.340363\n",
       "transcom     0.574832\n",
       "bankreal    -0.088639\n",
       "trade       -0.199558\n",
       "busservice   0.071395\n",
       "othservice   0.311115\n",
       "intercept   -2.643552"
      ]
     },
     "execution_count": 75,
     "metadata": {},
     "output_type": "execute_result"
    }
   ],
   "source": [
    "results"
   ]
  },
  {
   "cell_type": "markdown",
   "metadata": {},
   "source": [
    "### Complex Odds Ratio"
   ]
  },
  {
   "cell_type": "code",
   "execution_count": null,
   "metadata": {},
   "outputs": [],
   "source": [
    "#b0+b1+b2/b0+b1+b2+b3\n",
    "np.exp(-2.6436+-0.0015+0.7443)/np.exp(-2.6436+-0.0015+0.7443+0.1648)"
   ]
  },
  {
   "cell_type": "markdown",
   "metadata": {},
   "source": [
    "Returns the odds of one effect against another. In this case does volunteering increase the odds of getting a call back vs not?"
   ]
  },
  {
   "cell_type": "code",
   "execution_count": 84,
   "metadata": {},
   "outputs": [
    {
     "name": "stdout",
     "output_type": "stream",
     "text": [
      "estimates    1.179122\n",
      "dtype: float64\n"
     ]
    }
   ],
   "source": [
    "numerator=results.loc['intercept']+results.loc['education']+results.loc['honors']+results.loc['volunteer']\n",
    "denominator=results.loc['intercept']+results.loc['education']+results.loc['honors']\n",
    "print(np.exp(numerator)/np.exp(denominator))"
   ]
  },
  {
   "cell_type": "markdown",
   "metadata": {},
   "source": [
    "Those with education, honors and volunteered observed a 1.179 times increase in odds to receive a call back compared to those whom merely had an education and honors."
   ]
  },
  {
   "cell_type": "code",
   "execution_count": null,
   "metadata": {},
   "outputs": [],
   "source": []
  }
 ],
 "metadata": {
  "kernelspec": {
   "display_name": "Python 3",
   "language": "python",
   "name": "python3"
  },
  "language_info": {
   "codemirror_mode": {
    "name": "ipython",
    "version": 3
   },
   "file_extension": ".py",
   "mimetype": "text/x-python",
   "name": "python",
   "nbconvert_exporter": "python",
   "pygments_lexer": "ipython3",
   "version": "3.6.5"
  }
 },
 "nbformat": 4,
 "nbformat_minor": 2
}
