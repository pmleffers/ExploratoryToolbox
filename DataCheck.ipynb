{
 "cells": [
  {
   "cell_type": "code",
   "execution_count": 25,
   "metadata": {
    "collapsed": false
   },
   "outputs": [],
   "source": [
    "import pandas as pd\n",
    "from pandas import Series,DataFrame\n",
    "import numpy as np\n",
    "import matplotlib.pyplot as plt\n",
    "import seaborn as sns\n",
    "from scipy import stats \n",
    "from scipy.stats import truncnorm\n",
    "\n"
   ]
  },
  {
   "cell_type": "markdown",
   "metadata": {},
   "source": [
    "Creates an automatic table with a number of useful summary stastics"
   ]
  },
  {
   "cell_type": "code",
   "execution_count": 27,
   "metadata": {
    "collapsed": false
   },
   "outputs": [],
   "source": [
    "def sumData(data):\n",
    "    #Create generic table with columns with the same column names as dataset\n",
    "    table=pd.DataFrame(columns=data.columns)\n",
    "    #Create row names for the table \n",
    "    table_rows=pd.Series(['DataType','ZeroVals','NullVals','Dupes','MinVal','MaxVal','AvgVal','StandDev','MedianVal','Quantile1','Quantile2','Quantile3','Quantile4'])\n",
    "    #Create variables to contain values\n",
    "    DtypeVal,ZeroVals,NullVals,DupeBool,MinVal,MaxVal,AvgVal,StandDev,MedianVal,Quantile25,Quantile50,Quantile75,Quantile90=[],[],[],[],[],[],[],[],[],[],[],[],[]\n",
    "\n",
    "    for i in data.columns: \n",
    "        DtypeVal.append(np.dtype(data[i]))\n",
    "        NullVals.append(data[i].isnull().sum())\n",
    "        DupeBool.append(pd.Series(sum(pd.Series(data[i].duplicated()))).item())\n",
    "        ZeroVals.append((data[i]==0).sum())\n",
    "        MinVal.append((data[i].min()))\n",
    "        MaxVal.append((data[i].max()))\n",
    "        if np.dtype(data[i]) == 'int' or np.dtype(data[i]) == 'float':\n",
    "            AvgVal.append((data[i].mean()))\n",
    "            StandDev.append((data[i].mean()))\n",
    "            MedianVal.append((data[i].median())) \n",
    "            Quantile25.append((data[i].quantile(.25)))     \n",
    "            Quantile50.append((data[i].quantile(.5)))     \n",
    "            Quantile75.append((data[i].quantile(.75)))     \n",
    "            Quantile90.append((data[i].quantile(.9)))     \n",
    "        else:          \n",
    "            AvgVal.append('invalid')\n",
    "            StandDev.append('invalid')\n",
    "            MedianVal.append('invalid')  \n",
    "            Quantile25.append('invalid') \n",
    "            Quantile50.append('invalid')     \n",
    "            Quantile75.append('invalid')     \n",
    "            Quantile90.append('invalid')  \n",
    "\n",
    "    table=table.append(pd.Series(DtypeVal, index=data.columns),ignore_index=True) \n",
    "    table=table.append(pd.Series(ZeroVals, index=data.columns),ignore_index=True) \n",
    "    table=table.append(pd.Series(NullVals, index=data.columns),ignore_index=True)\n",
    "    table=table.append(pd.Series(DupeBool, index=data.columns),ignore_index=True)\n",
    "    table=table.append(pd.Series(MinVal, index=data.columns),ignore_index=True)\n",
    "    table=table.append(pd.Series(MaxVal, index=data.columns),ignore_index=True)\n",
    "    table=table.append(pd.Series(MedianVal, index=data.columns),ignore_index=True)\n",
    "    table=table.append(pd.Series(AvgVal, index=data.columns),ignore_index=True)\n",
    "    table=table.append(pd.Series(StandDev, index=data.columns),ignore_index=True)\n",
    "    table=table.append(pd.Series(Quantile25, index=data.columns),ignore_index=True)\n",
    "    table=table.append(pd.Series(Quantile50, index=data.columns),ignore_index=True)\n",
    "    table=table.append(pd.Series(Quantile75, index=data.columns),ignore_index=True)\n",
    "    table=table.append(pd.Series(Quantile90, index=data.columns),ignore_index=True)\n",
    "\n",
    "    table.insert(loc=0, column='Estimates', value=table_rows)\n",
    "    table.to_csv('sumTable.csv', sep=',')\n",
    "    return table"
   ]
  },
  {
   "cell_type": "markdown",
   "metadata": {},
   "source": [
    "Return the most common element from a list. Can be both numerical and non-numeric."
   ]
  },
  {
   "cell_type": "code",
   "execution_count": 10,
   "metadata": {
    "collapsed": false
   },
   "outputs": [],
   "source": [
    "def maxModeList(ValueList):\n",
    "    value=max(zip((list(ValueList).count(item) for item in set(list(ValueList))), set(list(ValueList))))[1]\n",
    "    return value"
   ]
  },
  {
   "cell_type": "markdown",
   "metadata": {},
   "source": [
    "Least Common element from a list"
   ]
  },
  {
   "cell_type": "code",
   "execution_count": 11,
   "metadata": {
    "collapsed": true
   },
   "outputs": [],
   "source": [
    "def minModeList(ValueList):\n",
    "    value=min(zip((list(ValueList).count(item) for item in set(list(ValueList))), set(list(ValueList))))[1]\n",
    "    return value"
   ]
  },
  {
   "cell_type": "markdown",
   "metadata": {},
   "source": [
    "Demonstration"
   ]
  },
  {
   "cell_type": "code",
   "execution_count": 12,
   "metadata": {
    "collapsed": false
   },
   "outputs": [
    {
     "data": {
      "text/plain": [
       "'Ferret'"
      ]
     },
     "execution_count": 12,
     "metadata": {},
     "output_type": "execute_result"
    }
   ],
   "source": [
    "something=['Cat','Cat','Dog','Dog','Dog','Ferret','Ferret','Ferret','Ferret','Mouse']\n",
    "#should return 'c', one of the problems is if they are equal then it will return the latest in the list.\n",
    "#In the future I should modify the function to provide ALL of the most common responses\n",
    "#Demonstration\n",
    "maxModeList(something)"
   ]
  },
  {
   "cell_type": "code",
   "execution_count": 28,
   "metadata": {
    "collapsed": false
   },
   "outputs": [
    {
     "data": {
      "text/html": [
       "<div>\n",
       "<style>\n",
       "    .dataframe thead tr:only-child th {\n",
       "        text-align: right;\n",
       "    }\n",
       "\n",
       "    .dataframe thead th {\n",
       "        text-align: left;\n",
       "    }\n",
       "\n",
       "    .dataframe tbody tr th {\n",
       "        vertical-align: top;\n",
       "    }\n",
       "</style>\n",
       "<table border=\"1\" class=\"dataframe\">\n",
       "  <thead>\n",
       "    <tr style=\"text-align: right;\">\n",
       "      <th></th>\n",
       "      <th>Estimates</th>\n",
       "      <th>compiled from Yahoo! Finance data by Matt Borthwick</th>\n",
       "      <th>ED</th>\n",
       "      <th>DD</th>\n",
       "      <th>CVX</th>\n",
       "      <th>FL</th>\n",
       "      <th>CAT</th>\n",
       "      <th>IP</th>\n",
       "      <th>SJW</th>\n",
       "      <th>F</th>\n",
       "      <th>...</th>\n",
       "      <th>EXTN</th>\n",
       "      <th>VYGR</th>\n",
       "      <th>ACG</th>\n",
       "      <th>MIME</th>\n",
       "      <th>TCRZ</th>\n",
       "      <th>MCX</th>\n",
       "      <th>EDIT</th>\n",
       "      <th>LMHA</th>\n",
       "      <th>UA</th>\n",
       "      <th>BTU</th>\n",
       "    </tr>\n",
       "  </thead>\n",
       "  <tbody>\n",
       "    <tr>\n",
       "      <th>0</th>\n",
       "      <td>DataType</td>\n",
       "      <td>object</td>\n",
       "      <td>float64</td>\n",
       "      <td>float64</td>\n",
       "      <td>float64</td>\n",
       "      <td>float64</td>\n",
       "      <td>float64</td>\n",
       "      <td>float64</td>\n",
       "      <td>float64</td>\n",
       "      <td>float64</td>\n",
       "      <td>...</td>\n",
       "      <td>float64</td>\n",
       "      <td>float64</td>\n",
       "      <td>float64</td>\n",
       "      <td>float64</td>\n",
       "      <td>float64</td>\n",
       "      <td>float64</td>\n",
       "      <td>float64</td>\n",
       "      <td>float64</td>\n",
       "      <td>float64</td>\n",
       "      <td>float64</td>\n",
       "    </tr>\n",
       "    <tr>\n",
       "      <th>1</th>\n",
       "      <td>ZeroVals</td>\n",
       "      <td>0</td>\n",
       "      <td>0</td>\n",
       "      <td>0</td>\n",
       "      <td>0</td>\n",
       "      <td>0</td>\n",
       "      <td>0</td>\n",
       "      <td>0</td>\n",
       "      <td>0</td>\n",
       "      <td>0</td>\n",
       "      <td>...</td>\n",
       "      <td>0</td>\n",
       "      <td>0</td>\n",
       "      <td>0</td>\n",
       "      <td>0</td>\n",
       "      <td>0</td>\n",
       "      <td>0</td>\n",
       "      <td>0</td>\n",
       "      <td>0</td>\n",
       "      <td>0</td>\n",
       "      <td>0</td>\n",
       "    </tr>\n",
       "    <tr>\n",
       "      <th>2</th>\n",
       "      <td>NullVals</td>\n",
       "      <td>0</td>\n",
       "      <td>0</td>\n",
       "      <td>1</td>\n",
       "      <td>0</td>\n",
       "      <td>0</td>\n",
       "      <td>0</td>\n",
       "      <td>0</td>\n",
       "      <td>612</td>\n",
       "      <td>612</td>\n",
       "      <td>...</td>\n",
       "      <td>11561</td>\n",
       "      <td>11572</td>\n",
       "      <td>11582</td>\n",
       "      <td>11578</td>\n",
       "      <td>11597</td>\n",
       "      <td>11601</td>\n",
       "      <td>11628</td>\n",
       "      <td>11663</td>\n",
       "      <td>11662</td>\n",
       "      <td>11921</td>\n",
       "    </tr>\n",
       "    <tr>\n",
       "      <th>3</th>\n",
       "      <td>Dupes</td>\n",
       "      <td>0</td>\n",
       "      <td>5164</td>\n",
       "      <td>6454</td>\n",
       "      <td>4023</td>\n",
       "      <td>4949</td>\n",
       "      <td>4163</td>\n",
       "      <td>3204</td>\n",
       "      <td>6903</td>\n",
       "      <td>4512</td>\n",
       "      <td>...</td>\n",
       "      <td>11647</td>\n",
       "      <td>11679</td>\n",
       "      <td>11728</td>\n",
       "      <td>11650</td>\n",
       "      <td>11749</td>\n",
       "      <td>11760</td>\n",
       "      <td>11659</td>\n",
       "      <td>11816</td>\n",
       "      <td>11711</td>\n",
       "      <td>11932</td>\n",
       "    </tr>\n",
       "    <tr>\n",
       "      <th>4</th>\n",
       "      <td>MinVal</td>\n",
       "      <td>1970-01-02</td>\n",
       "      <td>0.092676</td>\n",
       "      <td>0.000419</td>\n",
       "      <td>0.443472</td>\n",
       "      <td>0.505457</td>\n",
       "      <td>1.07532</td>\n",
       "      <td>1.3718</td>\n",
       "      <td>0.399763</td>\n",
       "      <td>0.166962</td>\n",
       "      <td>...</td>\n",
       "      <td>11.35</td>\n",
       "      <td>8.24</td>\n",
       "      <td>20.7652</td>\n",
       "      <td>6.2</td>\n",
       "      <td>21.6029</td>\n",
       "      <td>20.0274</td>\n",
       "      <td>12.46</td>\n",
       "      <td>23.4006</td>\n",
       "      <td>15.1</td>\n",
       "      <td>23.01</td>\n",
       "    </tr>\n",
       "    <tr>\n",
       "      <th>5</th>\n",
       "      <td>MaxVal</td>\n",
       "      <td>2017-09-08</td>\n",
       "      <td>85.53</td>\n",
       "      <td>85.1069</td>\n",
       "      <td>117.791</td>\n",
       "      <td>78.0519</td>\n",
       "      <td>118.3</td>\n",
       "      <td>57.6541</td>\n",
       "      <td>56.71</td>\n",
       "      <td>22.277</td>\n",
       "      <td>...</td>\n",
       "      <td>33.89</td>\n",
       "      <td>30.2</td>\n",
       "      <td>46.0579</td>\n",
       "      <td>29.8</td>\n",
       "      <td>26.0225</td>\n",
       "      <td>70.7364</td>\n",
       "      <td>42.04</td>\n",
       "      <td>27.1446</td>\n",
       "      <td>45.4081</td>\n",
       "      <td>31</td>\n",
       "    </tr>\n",
       "    <tr>\n",
       "      <th>6</th>\n",
       "      <td>AvgVal</td>\n",
       "      <td>invalid</td>\n",
       "      <td>8.58608</td>\n",
       "      <td>0.003967</td>\n",
       "      <td>9.60147</td>\n",
       "      <td>10.4501</td>\n",
       "      <td>5.71616</td>\n",
       "      <td>16.1528</td>\n",
       "      <td>2.98947</td>\n",
       "      <td>4.88002</td>\n",
       "      <td>...</td>\n",
       "      <td>16.52</td>\n",
       "      <td>12.015</td>\n",
       "      <td>31.6262</td>\n",
       "      <td>18.6</td>\n",
       "      <td>24.0413</td>\n",
       "      <td>24.3081</td>\n",
       "      <td>18.855</td>\n",
       "      <td>25.9919</td>\n",
       "      <td>25.515</td>\n",
       "      <td>25.75</td>\n",
       "    </tr>\n",
       "    <tr>\n",
       "      <th>7</th>\n",
       "      <td>StandDev</td>\n",
       "      <td>invalid</td>\n",
       "      <td>16.2214</td>\n",
       "      <td>4.65799</td>\n",
       "      <td>25.8388</td>\n",
       "      <td>13.6528</td>\n",
       "      <td>22.1348</td>\n",
       "      <td>16.2842</td>\n",
       "      <td>9.43819</td>\n",
       "      <td>5.88981</td>\n",
       "      <td>...</td>\n",
       "      <td>20.2838</td>\n",
       "      <td>12.6006</td>\n",
       "      <td>32.2147</td>\n",
       "      <td>17.0347</td>\n",
       "      <td>23.9993</td>\n",
       "      <td>24.114</td>\n",
       "      <td>21.7166</td>\n",
       "      <td>25.8443</td>\n",
       "      <td>27.0226</td>\n",
       "      <td>26.0995</td>\n",
       "    </tr>\n",
       "    <tr>\n",
       "      <th>8</th>\n",
       "      <td>MedianVal</td>\n",
       "      <td>invalid</td>\n",
       "      <td>16.2214</td>\n",
       "      <td>4.65799</td>\n",
       "      <td>25.8388</td>\n",
       "      <td>13.6528</td>\n",
       "      <td>22.1348</td>\n",
       "      <td>16.2842</td>\n",
       "      <td>9.43819</td>\n",
       "      <td>5.88981</td>\n",
       "      <td>...</td>\n",
       "      <td>20.2838</td>\n",
       "      <td>12.6006</td>\n",
       "      <td>32.2147</td>\n",
       "      <td>17.0347</td>\n",
       "      <td>23.9993</td>\n",
       "      <td>24.114</td>\n",
       "      <td>21.7166</td>\n",
       "      <td>25.8443</td>\n",
       "      <td>27.0226</td>\n",
       "      <td>26.0995</td>\n",
       "    </tr>\n",
       "    <tr>\n",
       "      <th>9</th>\n",
       "      <td>Quantile1</td>\n",
       "      <td>invalid</td>\n",
       "      <td>0.980461</td>\n",
       "      <td>0.0009455</td>\n",
       "      <td>2.32338</td>\n",
       "      <td>2.44568</td>\n",
       "      <td>2.82604</td>\n",
       "      <td>3.90983</td>\n",
       "      <td>0.962391</td>\n",
       "      <td>0.665296</td>\n",
       "      <td>...</td>\n",
       "      <td>14.545</td>\n",
       "      <td>10.03</td>\n",
       "      <td>23.4621</td>\n",
       "      <td>9.9925</td>\n",
       "      <td>22.8293</td>\n",
       "      <td>22.6192</td>\n",
       "      <td>16.555</td>\n",
       "      <td>25.3416</td>\n",
       "      <td>18.6575</td>\n",
       "      <td>24.22</td>\n",
       "    </tr>\n",
       "    <tr>\n",
       "      <th>10</th>\n",
       "      <td>Quantile2</td>\n",
       "      <td>invalid</td>\n",
       "      <td>8.58608</td>\n",
       "      <td>0.003967</td>\n",
       "      <td>9.60147</td>\n",
       "      <td>10.4501</td>\n",
       "      <td>5.71616</td>\n",
       "      <td>16.1528</td>\n",
       "      <td>2.98947</td>\n",
       "      <td>4.88002</td>\n",
       "      <td>...</td>\n",
       "      <td>16.52</td>\n",
       "      <td>12.015</td>\n",
       "      <td>31.6262</td>\n",
       "      <td>18.6</td>\n",
       "      <td>24.0413</td>\n",
       "      <td>24.3081</td>\n",
       "      <td>18.855</td>\n",
       "      <td>25.9919</td>\n",
       "      <td>25.515</td>\n",
       "      <td>25.75</td>\n",
       "    </tr>\n",
       "    <tr>\n",
       "      <th>11</th>\n",
       "      <td>Quantile3</td>\n",
       "      <td>invalid</td>\n",
       "      <td>25.608</td>\n",
       "      <td>0.014223</td>\n",
       "      <td>38.2216</td>\n",
       "      <td>16.7935</td>\n",
       "      <td>32.4223</td>\n",
       "      <td>23.7551</td>\n",
       "      <td>18.0615</td>\n",
       "      <td>9.94812</td>\n",
       "      <td>...</td>\n",
       "      <td>27.505</td>\n",
       "      <td>13.67</td>\n",
       "      <td>39.2937</td>\n",
       "      <td>22.1275</td>\n",
       "      <td>25.0251</td>\n",
       "      <td>25.2876</td>\n",
       "      <td>25.3325</td>\n",
       "      <td>26.4057</td>\n",
       "      <td>34.7925</td>\n",
       "      <td>27.86</td>\n",
       "    </tr>\n",
       "    <tr>\n",
       "      <th>12</th>\n",
       "      <td>Quantile4</td>\n",
       "      <td>invalid</td>\n",
       "      <td>47.6032</td>\n",
       "      <td>1.01407</td>\n",
       "      <td>85.8552</td>\n",
       "      <td>30.728</td>\n",
       "      <td>73.9408</td>\n",
       "      <td>31.8685</td>\n",
       "      <td>25.309</td>\n",
       "      <td>13.6658</td>\n",
       "      <td>...</td>\n",
       "      <td>29.86</td>\n",
       "      <td>16.031</td>\n",
       "      <td>42.9609</td>\n",
       "      <td>26.941</td>\n",
       "      <td>25.4912</td>\n",
       "      <td>25.77</td>\n",
       "      <td>33.002</td>\n",
       "      <td>26.6638</td>\n",
       "      <td>38.004</td>\n",
       "      <td>28.73</td>\n",
       "    </tr>\n",
       "  </tbody>\n",
       "</table>\n",
       "<p>13 rows × 712 columns</p>\n",
       "</div>"
      ],
      "text/plain": [
       "    Estimates compiled from Yahoo! Finance data by Matt Borthwick        ED  \\\n",
       "0    DataType                                             object    float64   \n",
       "1    ZeroVals                                                  0          0   \n",
       "2    NullVals                                                  0          0   \n",
       "3       Dupes                                                  0       5164   \n",
       "4      MinVal                                         1970-01-02   0.092676   \n",
       "5      MaxVal                                         2017-09-08      85.53   \n",
       "6      AvgVal                                            invalid    8.58608   \n",
       "7    StandDev                                            invalid    16.2214   \n",
       "8   MedianVal                                            invalid    16.2214   \n",
       "9   Quantile1                                            invalid   0.980461   \n",
       "10  Quantile2                                            invalid    8.58608   \n",
       "11  Quantile3                                            invalid     25.608   \n",
       "12  Quantile4                                            invalid    47.6032   \n",
       "\n",
       "           DD       CVX        FL      CAT       IP       SJW         F  \\\n",
       "0     float64   float64   float64  float64  float64   float64   float64   \n",
       "1           0         0         0        0        0         0         0   \n",
       "2           1         0         0        0        0       612       612   \n",
       "3        6454      4023      4949     4163     3204      6903      4512   \n",
       "4    0.000419  0.443472  0.505457  1.07532   1.3718  0.399763  0.166962   \n",
       "5     85.1069   117.791   78.0519    118.3  57.6541     56.71    22.277   \n",
       "6    0.003967   9.60147   10.4501  5.71616  16.1528   2.98947   4.88002   \n",
       "7     4.65799   25.8388   13.6528  22.1348  16.2842   9.43819   5.88981   \n",
       "8     4.65799   25.8388   13.6528  22.1348  16.2842   9.43819   5.88981   \n",
       "9   0.0009455   2.32338   2.44568  2.82604  3.90983  0.962391  0.665296   \n",
       "10   0.003967   9.60147   10.4501  5.71616  16.1528   2.98947   4.88002   \n",
       "11   0.014223   38.2216   16.7935  32.4223  23.7551   18.0615   9.94812   \n",
       "12    1.01407   85.8552    30.728  73.9408  31.8685    25.309   13.6658   \n",
       "\n",
       "     ...        EXTN     VYGR      ACG     MIME     TCRZ      MCX     EDIT  \\\n",
       "0    ...     float64  float64  float64  float64  float64  float64  float64   \n",
       "1    ...           0        0        0        0        0        0        0   \n",
       "2    ...       11561    11572    11582    11578    11597    11601    11628   \n",
       "3    ...       11647    11679    11728    11650    11749    11760    11659   \n",
       "4    ...       11.35     8.24  20.7652      6.2  21.6029  20.0274    12.46   \n",
       "5    ...       33.89     30.2  46.0579     29.8  26.0225  70.7364    42.04   \n",
       "6    ...       16.52   12.015  31.6262     18.6  24.0413  24.3081   18.855   \n",
       "7    ...     20.2838  12.6006  32.2147  17.0347  23.9993   24.114  21.7166   \n",
       "8    ...     20.2838  12.6006  32.2147  17.0347  23.9993   24.114  21.7166   \n",
       "9    ...      14.545    10.03  23.4621   9.9925  22.8293  22.6192   16.555   \n",
       "10   ...       16.52   12.015  31.6262     18.6  24.0413  24.3081   18.855   \n",
       "11   ...      27.505    13.67  39.2937  22.1275  25.0251  25.2876  25.3325   \n",
       "12   ...       29.86   16.031  42.9609   26.941  25.4912    25.77   33.002   \n",
       "\n",
       "       LMHA       UA      BTU  \n",
       "0   float64  float64  float64  \n",
       "1         0        0        0  \n",
       "2     11663    11662    11921  \n",
       "3     11816    11711    11932  \n",
       "4   23.4006     15.1    23.01  \n",
       "5   27.1446  45.4081       31  \n",
       "6   25.9919   25.515    25.75  \n",
       "7   25.8443  27.0226  26.0995  \n",
       "8   25.8443  27.0226  26.0995  \n",
       "9   25.3416  18.6575    24.22  \n",
       "10  25.9919   25.515    25.75  \n",
       "11  26.4057  34.7925    27.86  \n",
       "12  26.6638   38.004    28.73  \n",
       "\n",
       "[13 rows x 712 columns]"
      ]
     },
     "execution_count": 28,
     "metadata": {},
     "output_type": "execute_result"
    }
   ],
   "source": [
    "sumData(data)"
   ]
  },
  {
   "cell_type": "markdown",
   "metadata": {},
   "source": [
    "Histograms and Distribution Plots"
   ]
  },
  {
   "cell_type": "code",
   "execution_count": 24,
   "metadata": {
    "collapsed": true
   },
   "outputs": [],
   "source": [
    "def boxPlot(variable):\n",
    "    sns.set_style(\"whitegrid\")\n",
    "    #sns.load_dataset(\"tips\")\n",
    "    sns.boxplot(x=variable)\n",
    "    return plt.show(),plt.clf()"
   ]
  },
  {
   "cell_type": "code",
   "execution_count": 32,
   "metadata": {
    "collapsed": false
   },
   "outputs": [],
   "source": [
    "def BHKernel(variable):\n",
    "    fig1, axes = plt.subplots(4, 2)\n",
    "    fig1.set_size_inches(11.7, 8.27)    \n",
    "    sns.kdeplot(variable,bw='silverman',label=\"Bandwidth: Silverman\", ax=axes[0,0], shade=True, color=\"b\")\n",
    "    sns.kdeplot(variable,bw='scott',label=\"Bandwidth: Scott\", ax=axes[0,1],shade=True, color=\"r\")\n",
    "    sns.kdeplot(variable,kernel='gau',label=\"kernel: gau\", ax=axes[1,0])\n",
    "    sns.kdeplot(variable,kernel='cos',label=\"kernel: cos\", ax=axes[1,1])\n",
    "    sns.kdeplot(variable,kernel='biw',label=\"kernel: biw\", ax=axes[2,0])   \n",
    "    sns.kdeplot(variable,kernel='epa',label=\"kernel: epa\", ax=axes[2,1])\n",
    "    sns.kdeplot(variable,kernel='tri',label=\"kernel: tri\", ax=axes[3,0])\n",
    "    sns.kdeplot(variable,kernel='triw',label=\"kernel: triw\", ax=axes[3,1])\n",
    "    plt.figure()\n",
    "    print('Please wait this will take awhile!')  \n",
    "    print('For different kernels seaborn is auto-selecting \"silverman\"')\n",
    "    fig1.savefig(variable.name+'KDE6'+'.png')\n",
    "    return plt.show(),plt.clf()\n",
    "    "
   ]
  },
  {
   "cell_type": "code",
   "execution_count": 33,
   "metadata": {
    "collapsed": false
   },
   "outputs": [],
   "source": [
    "def histData(variable):   \n",
    "    if np.dtype(variable) == 'int' or np.dtype(variable) == 'float':\n",
    "        mu = variable.mean()\n",
    "        sigma = variable.std()\n",
    "        binNum=int(round(np.sqrt(variable.count()))) #Calculation to determine number of bins                                     \n",
    "        plt.hist(variable[~np.isnan(variable)], bins=binNum)\n",
    "    else:\n",
    "        print('Invalid')\n",
    "    return plt.show(),plt.clf()"
   ]
  },
  {
   "cell_type": "code",
   "execution_count": 34,
   "metadata": {
    "collapsed": false
   },
   "outputs": [],
   "source": [
    "def rugHist(variable):\n",
    "    plt.hist(variable,alpha=0.3)#alpha for transparency\n",
    "    sns.rugplot(variable) #showing points and histogram\n",
    "    plt.suptitle(\"Rugplot of \"+variable.name+\" with Histogram\")\n",
    "    plt.savefig(variable.name+'rH'+'.png')\n",
    "    plt.figure()\n",
    "    print()\n",
    "    return plt.show(),plt.clf()"
   ]
  },
  {
   "cell_type": "code",
   "execution_count": 56,
   "metadata": {
    "collapsed": false
   },
   "outputs": [],
   "source": [
    "def plotKDE(variable,bandwidth,kchoice):\n",
    "    sns.kdeplot(variable,bw=bandwidth,label=\"KDE\",shade=True)\n",
    "    plt.suptitle(\"Kernel Density Estimation of \"+variable.name+\" using \"+bandwidth+\" and \"+kchoice)\n",
    "    plt.savefig(variable.name+'kde'+'.png')\n",
    "    plt.figure()\n",
    "    return plt.show(),plt.clf()"
   ]
  },
  {
   "cell_type": "code",
   "execution_count": 36,
   "metadata": {
    "collapsed": false
   },
   "outputs": [],
   "source": [
    "def CDFPlot(variable):\n",
    "    lower,upper=variable.min(),variable.max()\n",
    "    mu,sigma = variable.mean(),variable.std()\n",
    "    values = stats.truncnorm((lower - mu) / sigma, (upper - mu) / sigma, loc=mu, scale=sigma)\n",
    "#    values = np.random.normal(mu, sigma, 10000)\n",
    "    sns.kdeplot(variable,cumulative=True,label=variable.name+\" CDF\",color='b')\n",
    "    sns.kdeplot(values.rvs(1000),cumulative=True,label=\"Gaussian CDF\",color='r')\n",
    "    plt.suptitle(\"Cumulative Distribution Frequency against normal Gaussian distribution.\")\n",
    "    plt.figure()\n",
    "    return plt.show(),plt.clf()"
   ]
  },
  {
   "cell_type": "code",
   "execution_count": 37,
   "metadata": {
    "collapsed": true
   },
   "outputs": [],
   "source": [
    "def drawPlots(variable):\n",
    "    if np.dtype(variable) == 'int' or np.dtype(variable) == 'float':\n",
    "        boxPlot(variable)\n",
    "        BHKernel(variable)\n",
    "        histData(variable)\n",
    "#        rugHist(variable)\n",
    "        bandwidth=input('Choose a bandwidth:').lower()\n",
    "        kchoice=input('Choose a kernel:').lower()\n",
    "        plotKDE(variable,bandwidth,kchoice)\n",
    "        CDFPlot(variable)\n",
    "    else:\n",
    "        print('Incorrect Data Type')\n",
    "    return"
   ]
  },
  {
   "cell_type": "code",
   "execution_count": 38,
   "metadata": {
    "collapsed": false
   },
   "outputs": [
    {
     "data": {
      "image/png": "[encoded data removed]",
      "text/plain": [
       "<matplotlib.figure.Figure at 0x1d0243b99b0>"
      ]
     },
     "metadata": {},
     "output_type": "display_data"
    },
    {
     "name": "stdout",
     "output_type": "stream",
     "text": [
      "Please wait this will take awhile!\n",
      "For different kernels seaborn is auto-selecting \"silverman\"\n"
     ]
    },
    {
     "data": {
      "text/plain": [
       "<matplotlib.figure.Figure at 0x1d029815a58>"
      ]
     },
     "metadata": {},
     "output_type": "display_data"
    },
    {
     "data": {
      "image/png": "[encoded data removed]",
      "text/plain": [
       "<matplotlib.figure.Figure at 0x1d0297d21d0>"
      ]
     },
     "metadata": {},
     "output_type": "display_data"
    },
    {
     "data": {
      "text/plain": [
       "<matplotlib.figure.Figure at 0x1d029798e10>"
      ]
     },
     "metadata": {},
     "output_type": "display_data"
    },
    {
     "data": {
      "image/png": "[encoded data removed]",
      "text/plain": [
       "<matplotlib.figure.Figure at 0x1d029a18ac8>"
      ]
     },
     "metadata": {},
     "output_type": "display_data"
    },
    {
     "name": "stdout",
     "output_type": "stream",
     "text": [
      "Choose a bandwidth:silverman\n",
      "Choose a kernel:gau\n"
     ]
    },
    {
     "data": {
      "image/png": "[encoded data removed]",
      "text/plain": [
       "<matplotlib.figure.Figure at 0x1d0294a6ac8>"
      ]
     },
     "metadata": {},
     "output_type": "display_data"
    },
    {
     "data": {
      "text/plain": [
       "<matplotlib.figure.Figure at 0x1d02903b8d0>"
      ]
     },
     "metadata": {},
     "output_type": "display_data"
    },
    {
     "data": {
      "image/png": "[encoded data removed]",
      "text/plain": [
       "<matplotlib.figure.Figure at 0x1d02906a5c0>"
      ]
     },
     "metadata": {},
     "output_type": "display_data"
    },
    {
     "data": {
      "text/plain": [
       "<matplotlib.figure.Figure at 0x1d03e314390>"
      ]
     },
     "metadata": {},
     "output_type": "display_data"
    }
   ],
   "source": [
    "drawPlots(data['CAT'])"
   ]
  },
  {
   "cell_type": "code",
   "execution_count": 154,
   "metadata": {
    "collapsed": true
   },
   "outputs": [],
   "source": [
    "#sns.kdeplot?"
   ]
  },
  {
   "cell_type": "markdown",
   "metadata": {
    "collapsed": true
   },
   "source": [
    "Multi-dimensions / Bivariate Distributions\n",
    "========="
   ]
  },
  {
   "cell_type": "markdown",
   "metadata": {},
   "source": [
    "Functions to create quick and simple plots to look at data to get familiar with it, you must specify X and Y values\n",
    "\n",
    "This is obviously a quick and dirty creation and won't work for all data types"
   ]
  },
  {
   "cell_type": "markdown",
   "metadata": {},
   "source": [
    "https://seaborn.pydata.org/tutorial/distributions.html"
   ]
  },
  {
   "cell_type": "code",
   "execution_count": 61,
   "metadata": {
    "collapsed": false
   },
   "outputs": [],
   "source": [
    "def multScat(variable1,variable2):\n",
    "    df = pd.DataFrame(data, columns=[variable1.name, variable2.name])\n",
    "    sns.kdeplot(df)\n",
    "    return plt.show()"
   ]
  },
  {
   "cell_type": "code",
   "execution_count": 62,
   "metadata": {
    "collapsed": false
   },
   "outputs": [
    {
     "data": {
      "image/png": "[encoded data removed]",
      "text/plain": [
       "<matplotlib.figure.Figure at 0x1d029a615f8>"
      ]
     },
     "metadata": {},
     "output_type": "display_data"
    }
   ],
   "source": [
    "multScat(data['ED'],data['CAT'])"
   ]
  },
  {
   "cell_type": "code",
   "execution_count": 57,
   "metadata": {
    "collapsed": true
   },
   "outputs": [],
   "source": [
    "def joinScat(variable1,variable2):\n",
    "    sns.jointplot(x=variable1.name, y=variable2.name, data=data)\n",
    "    return plt.show(),plt.clf()"
   ]
  },
  {
   "cell_type": "code",
   "execution_count": 58,
   "metadata": {
    "collapsed": false
   },
   "outputs": [
    {
     "data": {
      "image/png": "[encoded data removed]",
      "text/plain": [
       "<matplotlib.figure.Figure at 0x1d03e1cc588>"
      ]
     },
     "metadata": {},
     "output_type": "display_data"
    },
    {
     "data": {
      "text/plain": [
       "(None, None)"
      ]
     },
     "execution_count": 58,
     "metadata": {},
     "output_type": "execute_result"
    }
   ],
   "source": [
    "joinScat(data['ED'],data['CAT'])"
   ]
  },
  {
   "cell_type": "code",
   "execution_count": 59,
   "metadata": {
    "collapsed": true
   },
   "outputs": [],
   "source": [
    "def joinPlot(variable1,variable2):\n",
    "    sns.jointplot(variable1.name,variable2.name,data,kind='kde')\n",
    "    return plt.show(),plt.clf()"
   ]
  },
  {
   "cell_type": "code",
   "execution_count": 60,
   "metadata": {
    "collapsed": false
   },
   "outputs": [
    {
     "data": {
      "text/plain": [
       "<matplotlib.figure.Figure at 0x1d03e613da0>"
      ]
     },
     "metadata": {},
     "output_type": "display_data"
    },
    {
     "data": {
      "image/png": "[encoded data removed]",
      "text/plain": [
       "<matplotlib.figure.Figure at 0x1d029024898>"
      ]
     },
     "metadata": {},
     "output_type": "display_data"
    },
    {
     "data": {
      "text/plain": [
       "(None, None)"
      ]
     },
     "execution_count": 60,
     "metadata": {},
     "output_type": "execute_result"
    }
   ],
   "source": [
    "joinPlot(data['ED'],data['CAT'])"
   ]
  },
  {
   "cell_type": "markdown",
   "metadata": {},
   "source": [
    "Scatterplot"
   ]
  },
  {
   "cell_type": "code",
   "execution_count": 64,
   "metadata": {
    "collapsed": false
   },
   "outputs": [],
   "source": [
    "def scatterData(variable1,variable2):   \n",
    "    sns.jointplot(variable1,variable2)\n",
    "    return plt.show()"
   ]
  },
  {
   "cell_type": "code",
   "execution_count": 65,
   "metadata": {
    "collapsed": false
   },
   "outputs": [
    {
     "data": {
      "image/png": "[encoded data removed]",
      "text/plain": [
       "<matplotlib.figure.Figure at 0x1d0290f56a0>"
      ]
     },
     "metadata": {},
     "output_type": "display_data"
    }
   ],
   "source": [
    "scatterData(data['ED'],data['CAT'])"
   ]
  },
  {
   "cell_type": "code",
   "execution_count": null,
   "metadata": {
    "collapsed": true
   },
   "outputs": [],
   "source": [
    "#http://danielhnyk.cz/fitting-distribution-histogram-using-python/\n",
    "\n",
    "#from scipy import stats  \n",
    "#import numpy as np  \n",
    "#import matplotlib.pylab as plt\n",
    "\n",
    "# create some normal random noisy data\n",
    "#ser = 50*np.random.rand() * np.random.normal(10, 10, 100) + 20\n",
    "\n",
    "# plot normed histogram\n",
    "#plt.hist(ser, normed=True)\n",
    "\n",
    "# find minimum and maximum of xticks, so we know\n",
    "# where we should compute theoretical distribution\n",
    "#xt = plt.xticks()[0]  \n",
    "#xmin, xmax = min(xt), max(xt)  \n",
    "#lnspc = np.linspace(xmin, xmax, len(ser))\n",
    "\n",
    "# lets try the normal distribution first\n",
    "#m, s = stats.norm.fit(ser) # get mean and standard deviation  \n",
    "#pdf_g = stats.norm.pdf(lnspc, m, s) # now get theoretical values in our interval  \n",
    "#plt.plot(lnspc, pdf_g, label=\"Norm\") # plot it\n",
    "\n",
    "# exactly same as above\n",
    "#ag,bg,cg = stats.gamma.fit(ser)  \n",
    "#pdf_gamma = stats.gamma.pdf(lnspc, ag, bg,cg)  \n",
    "#plt.plot(lnspc, pdf_gamma, label=\"Gamma\")\n",
    "\n",
    "# guess what :) \n",
    "#ab,bb,cb,db = stats.beta.fit(ser)  \n",
    "#pdf_beta = stats.beta.pdf(lnspc, ab, bb,cb, db)  \n",
    "#plt.plot(lnspc, pdf_beta, label=\"Beta\")\n",
    "\n",
    "#plt.show()  "
   ]
  },
  {
   "cell_type": "markdown",
   "metadata": {},
   "source": [
    "Create Train Test Split Sets\n",
    "================="
   ]
  },
  {
   "cell_type": "code",
   "execution_count": null,
   "metadata": {
    "collapsed": true
   },
   "outputs": [],
   "source": [
    "def train_validate_test_split(df, train_percent=.6, validate_percent=.2, seed=None):\n",
    "    np.random.seed(seed)\n",
    "    perm = np.random.permutation(df.index)\n",
    "    m = len(df)\n",
    "    train_end = int(train_percent * m)\n",
    "    validate_end = int(validate_percent * m) + train_end\n",
    "    train = df.loc[perm[:train_end]]\n",
    "    validate = df.loc[perm[train_end:validate_end]]\n",
    "    test = df.loc[perm[validate_end:]]\n",
    "    return train, validate, test"
   ]
  },
  {
   "cell_type": "code",
   "execution_count": null,
   "metadata": {
    "collapsed": true
   },
   "outputs": [],
   "source": [
    "train, validate, test = train_validate_test_split(data)"
   ]
  },
  {
   "cell_type": "code",
   "execution_count": 29,
   "metadata": {
    "collapsed": false
   },
   "outputs": [
    {
     "data": {
      "text/html": [
       "<div>\n",
       "<style>\n",
       "    .dataframe thead tr:only-child th {\n",
       "        text-align: right;\n",
       "    }\n",
       "\n",
       "    .dataframe thead th {\n",
       "        text-align: left;\n",
       "    }\n",
       "\n",
       "    .dataframe tbody tr th {\n",
       "        vertical-align: top;\n",
       "    }\n",
       "</style>\n",
       "<table border=\"1\" class=\"dataframe\">\n",
       "  <thead>\n",
       "    <tr style=\"text-align: right;\">\n",
       "      <th></th>\n",
       "      <th>compiled from Yahoo! Finance data by Matt Borthwick</th>\n",
       "      <th>ED</th>\n",
       "      <th>DD</th>\n",
       "      <th>CVX</th>\n",
       "      <th>FL</th>\n",
       "      <th>CAT</th>\n",
       "      <th>IP</th>\n",
       "      <th>SJW</th>\n",
       "      <th>F</th>\n",
       "      <th>LLY</th>\n",
       "      <th>...</th>\n",
       "      <th>EXTN</th>\n",
       "      <th>VYGR</th>\n",
       "      <th>ACG</th>\n",
       "      <th>MIME</th>\n",
       "      <th>TCRZ</th>\n",
       "      <th>MCX</th>\n",
       "      <th>EDIT</th>\n",
       "      <th>LMHA</th>\n",
       "      <th>UA</th>\n",
       "      <th>BTU</th>\n",
       "    </tr>\n",
       "  </thead>\n",
       "  <tbody>\n",
       "    <tr>\n",
       "      <th>4959</th>\n",
       "      <td>1989-08-16</td>\n",
       "      <td>5.716818</td>\n",
       "      <td>0.004055</td>\n",
       "      <td>5.031669</td>\n",
       "      <td>17.644566</td>\n",
       "      <td>4.031823</td>\n",
       "      <td>12.224814</td>\n",
       "      <td>1.613857</td>\n",
       "      <td>3.686140</td>\n",
       "      <td>6.678162</td>\n",
       "      <td>...</td>\n",
       "      <td>NaN</td>\n",
       "      <td>NaN</td>\n",
       "      <td>NaN</td>\n",
       "      <td>NaN</td>\n",
       "      <td>NaN</td>\n",
       "      <td>NaN</td>\n",
       "      <td>NaN</td>\n",
       "      <td>NaN</td>\n",
       "      <td>NaN</td>\n",
       "      <td>NaN</td>\n",
       "    </tr>\n",
       "    <tr>\n",
       "      <th>2433</th>\n",
       "      <td>1979-08-20</td>\n",
       "      <td>0.582629</td>\n",
       "      <td>0.000886</td>\n",
       "      <td>1.779875</td>\n",
       "      <td>2.255044</td>\n",
       "      <td>3.085976</td>\n",
       "      <td>3.204419</td>\n",
       "      <td>0.640361</td>\n",
       "      <td>0.411199</td>\n",
       "      <td>1.078525</td>\n",
       "      <td>...</td>\n",
       "      <td>NaN</td>\n",
       "      <td>NaN</td>\n",
       "      <td>NaN</td>\n",
       "      <td>NaN</td>\n",
       "      <td>NaN</td>\n",
       "      <td>NaN</td>\n",
       "      <td>NaN</td>\n",
       "      <td>NaN</td>\n",
       "      <td>NaN</td>\n",
       "      <td>NaN</td>\n",
       "    </tr>\n",
       "    <tr>\n",
       "      <th>6303</th>\n",
       "      <td>1994-12-08</td>\n",
       "      <td>8.019994</td>\n",
       "      <td>0.006687</td>\n",
       "      <td>9.798035</td>\n",
       "      <td>9.410309</td>\n",
       "      <td>7.204891</td>\n",
       "      <td>18.179932</td>\n",
       "      <td>2.815533</td>\n",
       "      <td>4.877734</td>\n",
       "      <td>8.004892</td>\n",
       "      <td>...</td>\n",
       "      <td>NaN</td>\n",
       "      <td>NaN</td>\n",
       "      <td>NaN</td>\n",
       "      <td>NaN</td>\n",
       "      <td>NaN</td>\n",
       "      <td>NaN</td>\n",
       "      <td>NaN</td>\n",
       "      <td>NaN</td>\n",
       "      <td>NaN</td>\n",
       "      <td>NaN</td>\n",
       "    </tr>\n",
       "    <tr>\n",
       "      <th>3533</th>\n",
       "      <td>1983-12-23</td>\n",
       "      <td>1.774673</td>\n",
       "      <td>0.001364</td>\n",
       "      <td>2.232105</td>\n",
       "      <td>4.092962</td>\n",
       "      <td>2.812218</td>\n",
       "      <td>5.222898</td>\n",
       "      <td>0.929078</td>\n",
       "      <td>0.787282</td>\n",
       "      <td>1.294917</td>\n",
       "      <td>...</td>\n",
       "      <td>NaN</td>\n",
       "      <td>NaN</td>\n",
       "      <td>NaN</td>\n",
       "      <td>NaN</td>\n",
       "      <td>NaN</td>\n",
       "      <td>NaN</td>\n",
       "      <td>NaN</td>\n",
       "      <td>NaN</td>\n",
       "      <td>NaN</td>\n",
       "      <td>NaN</td>\n",
       "    </tr>\n",
       "    <tr>\n",
       "      <th>1360</th>\n",
       "      <td>1975-05-21</td>\n",
       "      <td>0.192693</td>\n",
       "      <td>0.000676</td>\n",
       "      <td>0.830961</td>\n",
       "      <td>1.007251</td>\n",
       "      <td>2.252830</td>\n",
       "      <td>3.004884</td>\n",
       "      <td>0.466390</td>\n",
       "      <td>0.219557</td>\n",
       "      <td>1.235479</td>\n",
       "      <td>...</td>\n",
       "      <td>NaN</td>\n",
       "      <td>NaN</td>\n",
       "      <td>NaN</td>\n",
       "      <td>NaN</td>\n",
       "      <td>NaN</td>\n",
       "      <td>NaN</td>\n",
       "      <td>NaN</td>\n",
       "      <td>NaN</td>\n",
       "      <td>NaN</td>\n",
       "      <td>NaN</td>\n",
       "    </tr>\n",
       "  </tbody>\n",
       "</table>\n",
       "<p>5 rows × 711 columns</p>\n",
       "</div>"
      ],
      "text/plain": [
       "     compiled from Yahoo! Finance data by Matt Borthwick        ED        DD  \\\n",
       "4959                                         1989-08-16   5.716818  0.004055   \n",
       "2433                                         1979-08-20   0.582629  0.000886   \n",
       "6303                                         1994-12-08   8.019994  0.006687   \n",
       "3533                                         1983-12-23   1.774673  0.001364   \n",
       "1360                                         1975-05-21   0.192693  0.000676   \n",
       "\n",
       "           CVX         FL       CAT         IP       SJW         F       LLY  \\\n",
       "4959  5.031669  17.644566  4.031823  12.224814  1.613857  3.686140  6.678162   \n",
       "2433  1.779875   2.255044  3.085976   3.204419  0.640361  0.411199  1.078525   \n",
       "6303  9.798035   9.410309  7.204891  18.179932  2.815533  4.877734  8.004892   \n",
       "3533  2.232105   4.092962  2.812218   5.222898  0.929078  0.787282  1.294917   \n",
       "1360  0.830961   1.007251  2.252830   3.004884  0.466390  0.219557  1.235479   \n",
       "\n",
       "     ...   EXTN  VYGR  ACG  MIME  TCRZ  MCX  EDIT  LMHA  UA  BTU  \n",
       "4959 ...    NaN   NaN  NaN   NaN   NaN  NaN   NaN   NaN NaN  NaN  \n",
       "2433 ...    NaN   NaN  NaN   NaN   NaN  NaN   NaN   NaN NaN  NaN  \n",
       "6303 ...    NaN   NaN  NaN   NaN   NaN  NaN   NaN   NaN NaN  NaN  \n",
       "3533 ...    NaN   NaN  NaN   NaN   NaN  NaN   NaN   NaN NaN  NaN  \n",
       "1360 ...    NaN   NaN  NaN   NaN   NaN  NaN   NaN   NaN NaN  NaN  \n",
       "\n",
       "[5 rows x 711 columns]"
      ]
     },
     "execution_count": 29,
     "metadata": {},
     "output_type": "execute_result"
    }
   ],
   "source": [
    "train.head()"
   ]
  },
  {
   "cell_type": "code",
   "execution_count": 30,
   "metadata": {
    "collapsed": false
   },
   "outputs": [
    {
     "data": {
      "text/html": [
       "<div>\n",
       "<style>\n",
       "    .dataframe thead tr:only-child th {\n",
       "        text-align: right;\n",
       "    }\n",
       "\n",
       "    .dataframe thead th {\n",
       "        text-align: left;\n",
       "    }\n",
       "\n",
       "    .dataframe tbody tr th {\n",
       "        vertical-align: top;\n",
       "    }\n",
       "</style>\n",
       "<table border=\"1\" class=\"dataframe\">\n",
       "  <thead>\n",
       "    <tr style=\"text-align: right;\">\n",
       "      <th></th>\n",
       "      <th>compiled from Yahoo! Finance data by Matt Borthwick</th>\n",
       "      <th>ED</th>\n",
       "      <th>DD</th>\n",
       "      <th>CVX</th>\n",
       "      <th>FL</th>\n",
       "      <th>CAT</th>\n",
       "      <th>IP</th>\n",
       "      <th>SJW</th>\n",
       "      <th>F</th>\n",
       "      <th>LLY</th>\n",
       "      <th>...</th>\n",
       "      <th>EXTN</th>\n",
       "      <th>VYGR</th>\n",
       "      <th>ACG</th>\n",
       "      <th>MIME</th>\n",
       "      <th>TCRZ</th>\n",
       "      <th>MCX</th>\n",
       "      <th>EDIT</th>\n",
       "      <th>LMHA</th>\n",
       "      <th>UA</th>\n",
       "      <th>BTU</th>\n",
       "    </tr>\n",
       "  </thead>\n",
       "  <tbody>\n",
       "    <tr>\n",
       "      <th>3743</th>\n",
       "      <td>1984-10-23</td>\n",
       "      <td>2.260031</td>\n",
       "      <td>0.001322</td>\n",
       "      <td>2.240952</td>\n",
       "      <td>4.352026</td>\n",
       "      <td>1.929091</td>\n",
       "      <td>4.721930</td>\n",
       "      <td>1.254811</td>\n",
       "      <td>0.924228</td>\n",
       "      <td>1.388736</td>\n",
       "      <td>...</td>\n",
       "      <td>NaN</td>\n",
       "      <td>NaN</td>\n",
       "      <td>NaN</td>\n",
       "      <td>NaN</td>\n",
       "      <td>NaN</td>\n",
       "      <td>NaN</td>\n",
       "      <td>NaN</td>\n",
       "      <td>NaN</td>\n",
       "      <td>NaN</td>\n",
       "      <td>NaN</td>\n",
       "    </tr>\n",
       "    <tr>\n",
       "      <th>237</th>\n",
       "      <td>1970-12-08</td>\n",
       "      <td>0.298382</td>\n",
       "      <td>0.000590</td>\n",
       "      <td>0.616219</td>\n",
       "      <td>1.865204</td>\n",
       "      <td>1.466338</td>\n",
       "      <td>1.699821</td>\n",
       "      <td>NaN</td>\n",
       "      <td>NaN</td>\n",
       "      <td>NaN</td>\n",
       "      <td>...</td>\n",
       "      <td>NaN</td>\n",
       "      <td>NaN</td>\n",
       "      <td>NaN</td>\n",
       "      <td>NaN</td>\n",
       "      <td>NaN</td>\n",
       "      <td>NaN</td>\n",
       "      <td>NaN</td>\n",
       "      <td>NaN</td>\n",
       "      <td>NaN</td>\n",
       "      <td>NaN</td>\n",
       "    </tr>\n",
       "    <tr>\n",
       "      <th>10483</th>\n",
       "      <td>2011-07-15</td>\n",
       "      <td>41.408997</td>\n",
       "      <td>0.109183</td>\n",
       "      <td>84.036201</td>\n",
       "      <td>20.637098</td>\n",
       "      <td>90.968636</td>\n",
       "      <td>23.769562</td>\n",
       "      <td>20.612337</td>\n",
       "      <td>10.443295</td>\n",
       "      <td>30.917561</td>\n",
       "      <td>...</td>\n",
       "      <td>NaN</td>\n",
       "      <td>NaN</td>\n",
       "      <td>NaN</td>\n",
       "      <td>NaN</td>\n",
       "      <td>NaN</td>\n",
       "      <td>NaN</td>\n",
       "      <td>NaN</td>\n",
       "      <td>NaN</td>\n",
       "      <td>NaN</td>\n",
       "      <td>NaN</td>\n",
       "    </tr>\n",
       "    <tr>\n",
       "      <th>3417</th>\n",
       "      <td>1983-07-12</td>\n",
       "      <td>1.556483</td>\n",
       "      <td>0.001239</td>\n",
       "      <td>2.514229</td>\n",
       "      <td>3.830764</td>\n",
       "      <td>2.549673</td>\n",
       "      <td>4.478859</td>\n",
       "      <td>0.984600</td>\n",
       "      <td>0.663138</td>\n",
       "      <td>1.342090</td>\n",
       "      <td>...</td>\n",
       "      <td>NaN</td>\n",
       "      <td>NaN</td>\n",
       "      <td>NaN</td>\n",
       "      <td>NaN</td>\n",
       "      <td>NaN</td>\n",
       "      <td>NaN</td>\n",
       "      <td>NaN</td>\n",
       "      <td>NaN</td>\n",
       "      <td>NaN</td>\n",
       "      <td>NaN</td>\n",
       "    </tr>\n",
       "    <tr>\n",
       "      <th>1176</th>\n",
       "      <td>1974-08-28</td>\n",
       "      <td>0.108507</td>\n",
       "      <td>0.000603</td>\n",
       "      <td>0.681445</td>\n",
       "      <td>0.647247</td>\n",
       "      <td>1.661851</td>\n",
       "      <td>2.292612</td>\n",
       "      <td>0.444181</td>\n",
       "      <td>0.206510</td>\n",
       "      <td>0.958456</td>\n",
       "      <td>...</td>\n",
       "      <td>NaN</td>\n",
       "      <td>NaN</td>\n",
       "      <td>NaN</td>\n",
       "      <td>NaN</td>\n",
       "      <td>NaN</td>\n",
       "      <td>NaN</td>\n",
       "      <td>NaN</td>\n",
       "      <td>NaN</td>\n",
       "      <td>NaN</td>\n",
       "      <td>NaN</td>\n",
       "    </tr>\n",
       "  </tbody>\n",
       "</table>\n",
       "<p>5 rows × 711 columns</p>\n",
       "</div>"
      ],
      "text/plain": [
       "      compiled from Yahoo! Finance data by Matt Borthwick         ED  \\\n",
       "3743                                          1984-10-23    2.260031   \n",
       "237                                           1970-12-08    0.298382   \n",
       "10483                                         2011-07-15   41.408997   \n",
       "3417                                          1983-07-12    1.556483   \n",
       "1176                                          1974-08-28    0.108507   \n",
       "\n",
       "             DD        CVX         FL        CAT         IP        SJW  \\\n",
       "3743   0.001322   2.240952   4.352026   1.929091   4.721930   1.254811   \n",
       "237    0.000590   0.616219   1.865204   1.466338   1.699821        NaN   \n",
       "10483  0.109183  84.036201  20.637098  90.968636  23.769562  20.612337   \n",
       "3417   0.001239   2.514229   3.830764   2.549673   4.478859   0.984600   \n",
       "1176   0.000603   0.681445   0.647247   1.661851   2.292612   0.444181   \n",
       "\n",
       "               F        LLY ...   EXTN  VYGR  ACG  MIME  TCRZ  MCX  EDIT  \\\n",
       "3743    0.924228   1.388736 ...    NaN   NaN  NaN   NaN   NaN  NaN   NaN   \n",
       "237          NaN        NaN ...    NaN   NaN  NaN   NaN   NaN  NaN   NaN   \n",
       "10483  10.443295  30.917561 ...    NaN   NaN  NaN   NaN   NaN  NaN   NaN   \n",
       "3417    0.663138   1.342090 ...    NaN   NaN  NaN   NaN   NaN  NaN   NaN   \n",
       "1176    0.206510   0.958456 ...    NaN   NaN  NaN   NaN   NaN  NaN   NaN   \n",
       "\n",
       "       LMHA  UA  BTU  \n",
       "3743    NaN NaN  NaN  \n",
       "237     NaN NaN  NaN  \n",
       "10483   NaN NaN  NaN  \n",
       "3417    NaN NaN  NaN  \n",
       "1176    NaN NaN  NaN  \n",
       "\n",
       "[5 rows x 711 columns]"
      ]
     },
     "execution_count": 30,
     "metadata": {},
     "output_type": "execute_result"
    }
   ],
   "source": [
    "validate.head()"
   ]
  },
  {
   "cell_type": "code",
   "execution_count": 31,
   "metadata": {
    "collapsed": false
   },
   "outputs": [
    {
     "data": {
      "text/html": [
       "<div>\n",
       "<style>\n",
       "    .dataframe thead tr:only-child th {\n",
       "        text-align: right;\n",
       "    }\n",
       "\n",
       "    .dataframe thead th {\n",
       "        text-align: left;\n",
       "    }\n",
       "\n",
       "    .dataframe tbody tr th {\n",
       "        vertical-align: top;\n",
       "    }\n",
       "</style>\n",
       "<table border=\"1\" class=\"dataframe\">\n",
       "  <thead>\n",
       "    <tr style=\"text-align: right;\">\n",
       "      <th></th>\n",
       "      <th>compiled from Yahoo! Finance data by Matt Borthwick</th>\n",
       "      <th>ED</th>\n",
       "      <th>DD</th>\n",
       "      <th>CVX</th>\n",
       "      <th>FL</th>\n",
       "      <th>CAT</th>\n",
       "      <th>IP</th>\n",
       "      <th>SJW</th>\n",
       "      <th>F</th>\n",
       "      <th>LLY</th>\n",
       "      <th>...</th>\n",
       "      <th>EXTN</th>\n",
       "      <th>VYGR</th>\n",
       "      <th>ACG</th>\n",
       "      <th>MIME</th>\n",
       "      <th>TCRZ</th>\n",
       "      <th>MCX</th>\n",
       "      <th>EDIT</th>\n",
       "      <th>LMHA</th>\n",
       "      <th>UA</th>\n",
       "      <th>BTU</th>\n",
       "    </tr>\n",
       "  </thead>\n",
       "  <tbody>\n",
       "    <tr>\n",
       "      <th>3253</th>\n",
       "      <td>1982-11-16</td>\n",
       "      <td>1.228771</td>\n",
       "      <td>0.000968</td>\n",
       "      <td>1.974874</td>\n",
       "      <td>2.749567</td>\n",
       "      <td>2.416141</td>\n",
       "      <td>3.843326</td>\n",
       "      <td>0.710689</td>\n",
       "      <td>0.356846</td>\n",
       "      <td>1.271842</td>\n",
       "      <td>...</td>\n",
       "      <td>NaN</td>\n",
       "      <td>NaN</td>\n",
       "      <td>NaN</td>\n",
       "      <td>NaN</td>\n",
       "      <td>NaN</td>\n",
       "      <td>NaN</td>\n",
       "      <td>NaN</td>\n",
       "      <td>NaN</td>\n",
       "      <td>NaN</td>\n",
       "      <td>NaN</td>\n",
       "    </tr>\n",
       "    <tr>\n",
       "      <th>675</th>\n",
       "      <td>1972-08-30</td>\n",
       "      <td>0.333559</td>\n",
       "      <td>0.000892</td>\n",
       "      <td>0.874245</td>\n",
       "      <td>2.005359</td>\n",
       "      <td>2.301708</td>\n",
       "      <td>1.945115</td>\n",
       "      <td>0.507106</td>\n",
       "      <td>0.328052</td>\n",
       "      <td>1.174834</td>\n",
       "      <td>...</td>\n",
       "      <td>NaN</td>\n",
       "      <td>NaN</td>\n",
       "      <td>NaN</td>\n",
       "      <td>NaN</td>\n",
       "      <td>NaN</td>\n",
       "      <td>NaN</td>\n",
       "      <td>NaN</td>\n",
       "      <td>NaN</td>\n",
       "      <td>NaN</td>\n",
       "      <td>NaN</td>\n",
       "    </tr>\n",
       "    <tr>\n",
       "      <th>4956</th>\n",
       "      <td>1989-08-11</td>\n",
       "      <td>5.743786</td>\n",
       "      <td>0.004003</td>\n",
       "      <td>4.997360</td>\n",
       "      <td>18.200296</td>\n",
       "      <td>4.079820</td>\n",
       "      <td>12.336802</td>\n",
       "      <td>1.628663</td>\n",
       "      <td>3.570111</td>\n",
       "      <td>6.530655</td>\n",
       "      <td>...</td>\n",
       "      <td>NaN</td>\n",
       "      <td>NaN</td>\n",
       "      <td>NaN</td>\n",
       "      <td>NaN</td>\n",
       "      <td>NaN</td>\n",
       "      <td>NaN</td>\n",
       "      <td>NaN</td>\n",
       "      <td>NaN</td>\n",
       "      <td>NaN</td>\n",
       "      <td>NaN</td>\n",
       "    </tr>\n",
       "    <tr>\n",
       "      <th>10084</th>\n",
       "      <td>2009-12-14</td>\n",
       "      <td>32.645664</td>\n",
       "      <td>1.087683</td>\n",
       "      <td>58.052616</td>\n",
       "      <td>8.074295</td>\n",
       "      <td>46.874596</td>\n",
       "      <td>20.316328</td>\n",
       "      <td>18.588736</td>\n",
       "      <td>7.244088</td>\n",
       "      <td>26.484386</td>\n",
       "      <td>...</td>\n",
       "      <td>NaN</td>\n",
       "      <td>NaN</td>\n",
       "      <td>NaN</td>\n",
       "      <td>NaN</td>\n",
       "      <td>NaN</td>\n",
       "      <td>NaN</td>\n",
       "      <td>NaN</td>\n",
       "      <td>NaN</td>\n",
       "      <td>NaN</td>\n",
       "      <td>NaN</td>\n",
       "    </tr>\n",
       "    <tr>\n",
       "      <th>9600</th>\n",
       "      <td>2008-01-14</td>\n",
       "      <td>30.552259</td>\n",
       "      <td>0.006220</td>\n",
       "      <td>63.849308</td>\n",
       "      <td>8.390159</td>\n",
       "      <td>50.458824</td>\n",
       "      <td>22.464033</td>\n",
       "      <td>24.839514</td>\n",
       "      <td>4.930448</td>\n",
       "      <td>38.538727</td>\n",
       "      <td>...</td>\n",
       "      <td>NaN</td>\n",
       "      <td>NaN</td>\n",
       "      <td>NaN</td>\n",
       "      <td>NaN</td>\n",
       "      <td>NaN</td>\n",
       "      <td>NaN</td>\n",
       "      <td>NaN</td>\n",
       "      <td>NaN</td>\n",
       "      <td>NaN</td>\n",
       "      <td>NaN</td>\n",
       "    </tr>\n",
       "  </tbody>\n",
       "</table>\n",
       "<p>5 rows × 711 columns</p>\n",
       "</div>"
      ],
      "text/plain": [
       "      compiled from Yahoo! Finance data by Matt Borthwick         ED  \\\n",
       "3253                                          1982-11-16    1.228771   \n",
       "675                                           1972-08-30    0.333559   \n",
       "4956                                          1989-08-11    5.743786   \n",
       "10084                                         2009-12-14   32.645664   \n",
       "9600                                          2008-01-14   30.552259   \n",
       "\n",
       "             DD        CVX         FL        CAT         IP        SJW  \\\n",
       "3253   0.000968   1.974874   2.749567   2.416141   3.843326   0.710689   \n",
       "675    0.000892   0.874245   2.005359   2.301708   1.945115   0.507106   \n",
       "4956   0.004003   4.997360  18.200296   4.079820  12.336802   1.628663   \n",
       "10084  1.087683  58.052616   8.074295  46.874596  20.316328  18.588736   \n",
       "9600   0.006220  63.849308   8.390159  50.458824  22.464033  24.839514   \n",
       "\n",
       "              F        LLY ...   EXTN  VYGR  ACG  MIME  TCRZ  MCX  EDIT  LMHA  \\\n",
       "3253   0.356846   1.271842 ...    NaN   NaN  NaN   NaN   NaN  NaN   NaN   NaN   \n",
       "675    0.328052   1.174834 ...    NaN   NaN  NaN   NaN   NaN  NaN   NaN   NaN   \n",
       "4956   3.570111   6.530655 ...    NaN   NaN  NaN   NaN   NaN  NaN   NaN   NaN   \n",
       "10084  7.244088  26.484386 ...    NaN   NaN  NaN   NaN   NaN  NaN   NaN   NaN   \n",
       "9600   4.930448  38.538727 ...    NaN   NaN  NaN   NaN   NaN  NaN   NaN   NaN   \n",
       "\n",
       "       UA  BTU  \n",
       "3253  NaN  NaN  \n",
       "675   NaN  NaN  \n",
       "4956  NaN  NaN  \n",
       "10084 NaN  NaN  \n",
       "9600  NaN  NaN  \n",
       "\n",
       "[5 rows x 711 columns]"
      ]
     },
     "execution_count": 31,
     "metadata": {},
     "output_type": "execute_result"
    }
   ],
   "source": [
    "test.head()"
   ]
  },
  {
   "cell_type": "code",
   "execution_count": null,
   "metadata": {
    "collapsed": true
   },
   "outputs": [],
   "source": []
  }
 ],
 "metadata": {
  "kernelspec": {
   "display_name": "Python 3",
   "language": "python",
   "name": "python3"
  },
  "language_info": {
   "codemirror_mode": {
    "name": "ipython",
    "version": 3
   },
   "file_extension": ".py",
   "mimetype": "text/x-python",
   "name": "python",
   "nbconvert_exporter": "python",
   "pygments_lexer": "ipython3",
   "version": "3.6.0"
  }
 },
 "nbformat": 4,
 "nbformat_minor": 2
}
